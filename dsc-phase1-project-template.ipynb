{
 "cells": [
  {
   "cell_type": "markdown",
   "metadata": {},
   "source": [
    "![example](images/director_shot.jpeg)"
   ]
  },
  {
   "cell_type": "markdown",
   "metadata": {},
   "source": [
    "# Microsoft New Movie Studio\n",
    "\n",
    "**Authors:** Monique Hercules \n",
    "***"
   ]
  },
  {
   "cell_type": "markdown",
   "metadata": {},
   "source": [
    "## Overview\n",
    "\n",
    "A one-paragraph overview of the project, including the business problem, data, methods, results and recommendations.\n",
    "\n",
    "This project analyzes popular movies made by various studios to create a template to use to create a successful new movie studio for Microsoft. The creators of the new studio can use this information to predict the best actors, directors and writers to use to make a profitable movie studio. "
   ]
  },
  {
   "cell_type": "markdown",
   "metadata": {},
   "source": [
    "## Business Problem\n",
    "\n",
    "Summary of the business problem you are trying to solve, and the data questions that you plan to answer to solve them.\n",
    "\n",
    "***\n",
    "Questions to consider:\n",
    "* What are the business's pain points related to this project?\n",
    "* How did you pick the data analysis question(s) that you did?\n",
    "* Why are these questions important from a business perspective?\n",
    "***\n",
    "\n",
    "The creation of a new movie studio is a daunting task but with the data analysis from --- and profit projections. We can determine the first few movies we need to make to be profitable immediately, while building rapport in the movie studio industry. "
   ]
  },
  {
   "cell_type": "markdown",
   "metadata": {},
   "source": [
    "## Data Understanding\n",
    "\n",
    "Describe the data being used for this project.\n",
    "***\n",
    "Questions to consider:\n",
    "* Where did the data come from, and how do they relate to the data analysis questions?\n",
    "* What do the data represent? Who is in the sample and what variables are included?\n",
    "* What is the target variable?\n",
    "* What are the properties of the variables you intend to use?\n",
    "***"
   ]
  },
  {
   "cell_type": "code",
   "execution_count": 18,
   "metadata": {},
   "outputs": [],
   "source": [
    "# Import standard packages\n",
    "import pandas as pd\n",
    "import numpy as np\n",
    "import matplotlib.pyplot as plt\n",
    "import seaborn as sns\n",
    "\n",
    "%matplotlib inline"
   ]
  },
  {
   "cell_type": "code",
   "execution_count": 27,
   "metadata": {},
   "outputs": [],
   "source": [
    "movie_budgets_df = pd.read_csv('data/zippedData/tmdb.movies.csv.gz', index_col = 0)\n"
   ]
  },
  {
   "cell_type": "code",
   "execution_count": 76,
   "metadata": {},
   "outputs": [
    {
     "data": {
      "text/html": [
       "<div>\n",
       "<style scoped>\n",
       "    .dataframe tbody tr th:only-of-type {\n",
       "        vertical-align: middle;\n",
       "    }\n",
       "\n",
       "    .dataframe tbody tr th {\n",
       "        vertical-align: top;\n",
       "    }\n",
       "\n",
       "    .dataframe thead th {\n",
       "        text-align: right;\n",
       "    }\n",
       "</style>\n",
       "<table border=\"1\" class=\"dataframe\">\n",
       "  <thead>\n",
       "    <tr style=\"text-align: right;\">\n",
       "      <th></th>\n",
       "      <th>genre_ids</th>\n",
       "      <th>id</th>\n",
       "      <th>original_language</th>\n",
       "      <th>original_title</th>\n",
       "      <th>popularity</th>\n",
       "      <th>release_date</th>\n",
       "      <th>title</th>\n",
       "      <th>vote_average</th>\n",
       "      <th>vote_count</th>\n",
       "    </tr>\n",
       "  </thead>\n",
       "  <tbody>\n",
       "    <tr>\n",
       "      <th>0</th>\n",
       "      <td>[12, 14, 10751]</td>\n",
       "      <td>12444</td>\n",
       "      <td>en</td>\n",
       "      <td>Harry Potter and the Deathly Hallows: Part 1</td>\n",
       "      <td>33.533</td>\n",
       "      <td>2010-11-19</td>\n",
       "      <td>Harry Potter and the Deathly Hallows: Part 1</td>\n",
       "      <td>7.7</td>\n",
       "      <td>10788</td>\n",
       "    </tr>\n",
       "    <tr>\n",
       "      <th>1</th>\n",
       "      <td>[14, 12, 16, 10751]</td>\n",
       "      <td>10191</td>\n",
       "      <td>en</td>\n",
       "      <td>How to Train Your Dragon</td>\n",
       "      <td>28.734</td>\n",
       "      <td>2010-03-26</td>\n",
       "      <td>How to Train Your Dragon</td>\n",
       "      <td>7.7</td>\n",
       "      <td>7610</td>\n",
       "    </tr>\n",
       "    <tr>\n",
       "      <th>2</th>\n",
       "      <td>[12, 28, 878]</td>\n",
       "      <td>10138</td>\n",
       "      <td>en</td>\n",
       "      <td>Iron Man 2</td>\n",
       "      <td>28.515</td>\n",
       "      <td>2010-05-07</td>\n",
       "      <td>Iron Man 2</td>\n",
       "      <td>6.8</td>\n",
       "      <td>12368</td>\n",
       "    </tr>\n",
       "    <tr>\n",
       "      <th>3</th>\n",
       "      <td>[16, 35, 10751]</td>\n",
       "      <td>862</td>\n",
       "      <td>en</td>\n",
       "      <td>Toy Story</td>\n",
       "      <td>28.005</td>\n",
       "      <td>1995-11-22</td>\n",
       "      <td>Toy Story</td>\n",
       "      <td>7.9</td>\n",
       "      <td>10174</td>\n",
       "    </tr>\n",
       "    <tr>\n",
       "      <th>4</th>\n",
       "      <td>[28, 878, 12]</td>\n",
       "      <td>27205</td>\n",
       "      <td>en</td>\n",
       "      <td>Inception</td>\n",
       "      <td>27.920</td>\n",
       "      <td>2010-07-16</td>\n",
       "      <td>Inception</td>\n",
       "      <td>8.3</td>\n",
       "      <td>22186</td>\n",
       "    </tr>\n",
       "  </tbody>\n",
       "</table>\n",
       "</div>"
      ],
      "text/plain": [
       "             genre_ids     id original_language  \\\n",
       "0      [12, 14, 10751]  12444                en   \n",
       "1  [14, 12, 16, 10751]  10191                en   \n",
       "2        [12, 28, 878]  10138                en   \n",
       "3      [16, 35, 10751]    862                en   \n",
       "4        [28, 878, 12]  27205                en   \n",
       "\n",
       "                                 original_title  popularity release_date  \\\n",
       "0  Harry Potter and the Deathly Hallows: Part 1      33.533   2010-11-19   \n",
       "1                      How to Train Your Dragon      28.734   2010-03-26   \n",
       "2                                    Iron Man 2      28.515   2010-05-07   \n",
       "3                                     Toy Story      28.005   1995-11-22   \n",
       "4                                     Inception      27.920   2010-07-16   \n",
       "\n",
       "                                          title  vote_average  vote_count  \n",
       "0  Harry Potter and the Deathly Hallows: Part 1           7.7       10788  \n",
       "1                      How to Train Your Dragon           7.7        7610  \n",
       "2                                    Iron Man 2           6.8       12368  \n",
       "3                                     Toy Story           7.9       10174  \n",
       "4                                     Inception           8.3       22186  "
      ]
     },
     "execution_count": 76,
     "metadata": {},
     "output_type": "execute_result"
    }
   ],
   "source": [
    "movie_budgets_df.head()"
   ]
  },
  {
   "cell_type": "code",
   "execution_count": 30,
   "metadata": {},
   "outputs": [
    {
     "name": "stdout",
     "output_type": "stream",
     "text": [
      "<class 'pandas.core.frame.DataFrame'>\n",
      "Int64Index: 26517 entries, 0 to 26516\n",
      "Data columns (total 9 columns):\n",
      " #   Column             Non-Null Count  Dtype  \n",
      "---  ------             --------------  -----  \n",
      " 0   genre_ids          26517 non-null  object \n",
      " 1   id                 26517 non-null  int64  \n",
      " 2   original_language  26517 non-null  object \n",
      " 3   original_title     26517 non-null  object \n",
      " 4   popularity         26517 non-null  float64\n",
      " 5   release_date       26517 non-null  object \n",
      " 6   title              26517 non-null  object \n",
      " 7   vote_average       26517 non-null  float64\n",
      " 8   vote_count         26517 non-null  int64  \n",
      "dtypes: float64(2), int64(2), object(5)\n",
      "memory usage: 2.0+ MB\n"
     ]
    }
   ],
   "source": [
    "movie_budgets_df.info()"
   ]
  },
  {
   "cell_type": "code",
   "execution_count": 38,
   "metadata": {},
   "outputs": [
    {
     "data": {
      "text/html": [
       "<div>\n",
       "<style scoped>\n",
       "    .dataframe tbody tr th:only-of-type {\n",
       "        vertical-align: middle;\n",
       "    }\n",
       "\n",
       "    .dataframe tbody tr th {\n",
       "        vertical-align: top;\n",
       "    }\n",
       "\n",
       "    .dataframe thead th {\n",
       "        text-align: right;\n",
       "    }\n",
       "</style>\n",
       "<table border=\"1\" class=\"dataframe\">\n",
       "  <thead>\n",
       "    <tr style=\"text-align: right;\">\n",
       "      <th></th>\n",
       "      <th>title</th>\n",
       "      <th>studio</th>\n",
       "      <th>domestic_gross</th>\n",
       "      <th>foreign_gross</th>\n",
       "      <th>year</th>\n",
       "    </tr>\n",
       "  </thead>\n",
       "  <tbody>\n",
       "    <tr>\n",
       "      <th>0</th>\n",
       "      <td>Toy Story 3</td>\n",
       "      <td>BV</td>\n",
       "      <td>415000000.0</td>\n",
       "      <td>652000000</td>\n",
       "      <td>2010</td>\n",
       "    </tr>\n",
       "    <tr>\n",
       "      <th>1</th>\n",
       "      <td>Alice in Wonderland (2010)</td>\n",
       "      <td>BV</td>\n",
       "      <td>334200000.0</td>\n",
       "      <td>691300000</td>\n",
       "      <td>2010</td>\n",
       "    </tr>\n",
       "    <tr>\n",
       "      <th>2</th>\n",
       "      <td>Harry Potter and the Deathly Hallows Part 1</td>\n",
       "      <td>WB</td>\n",
       "      <td>296000000.0</td>\n",
       "      <td>664300000</td>\n",
       "      <td>2010</td>\n",
       "    </tr>\n",
       "    <tr>\n",
       "      <th>3</th>\n",
       "      <td>Inception</td>\n",
       "      <td>WB</td>\n",
       "      <td>292600000.0</td>\n",
       "      <td>535700000</td>\n",
       "      <td>2010</td>\n",
       "    </tr>\n",
       "    <tr>\n",
       "      <th>4</th>\n",
       "      <td>Shrek Forever After</td>\n",
       "      <td>P/DW</td>\n",
       "      <td>238700000.0</td>\n",
       "      <td>513900000</td>\n",
       "      <td>2010</td>\n",
       "    </tr>\n",
       "  </tbody>\n",
       "</table>\n",
       "</div>"
      ],
      "text/plain": [
       "                                         title studio  domestic_gross  \\\n",
       "0                                  Toy Story 3     BV     415000000.0   \n",
       "1                   Alice in Wonderland (2010)     BV     334200000.0   \n",
       "2  Harry Potter and the Deathly Hallows Part 1     WB     296000000.0   \n",
       "3                                    Inception     WB     292600000.0   \n",
       "4                          Shrek Forever After   P/DW     238700000.0   \n",
       "\n",
       "  foreign_gross  year  \n",
       "0     652000000  2010  \n",
       "1     691300000  2010  \n",
       "2     664300000  2010  \n",
       "3     535700000  2010  \n",
       "4     513900000  2010  "
      ]
     },
     "execution_count": 38,
     "metadata": {},
     "output_type": "execute_result"
    }
   ],
   "source": [
    "movie_gross_df = pd.read_csv('data/zippeddata/bom.movie_gross.csv.gz')\n",
    "movie_gross_df.head()\n"
   ]
  },
  {
   "cell_type": "code",
   "execution_count": 39,
   "metadata": {},
   "outputs": [
    {
     "name": "stdout",
     "output_type": "stream",
     "text": [
      "<class 'pandas.core.frame.DataFrame'>\n",
      "RangeIndex: 3387 entries, 0 to 3386\n",
      "Data columns (total 5 columns):\n",
      " #   Column          Non-Null Count  Dtype  \n",
      "---  ------          --------------  -----  \n",
      " 0   title           3387 non-null   object \n",
      " 1   studio          3382 non-null   object \n",
      " 2   domestic_gross  3359 non-null   float64\n",
      " 3   foreign_gross   2037 non-null   object \n",
      " 4   year            3387 non-null   int64  \n",
      "dtypes: float64(1), int64(1), object(3)\n",
      "memory usage: 132.4+ KB\n"
     ]
    }
   ],
   "source": [
    "movie_gross_df.info()"
   ]
  },
  {
   "cell_type": "code",
   "execution_count": 67,
   "metadata": {},
   "outputs": [
    {
     "data": {
      "text/html": [
       "<div>\n",
       "<style scoped>\n",
       "    .dataframe tbody tr th:only-of-type {\n",
       "        vertical-align: middle;\n",
       "    }\n",
       "\n",
       "    .dataframe tbody tr th {\n",
       "        vertical-align: top;\n",
       "    }\n",
       "\n",
       "    .dataframe thead th {\n",
       "        text-align: right;\n",
       "    }\n",
       "</style>\n",
       "<table border=\"1\" class=\"dataframe\">\n",
       "  <thead>\n",
       "    <tr style=\"text-align: right;\">\n",
       "      <th></th>\n",
       "      <th>id</th>\n",
       "      <th>synopsis</th>\n",
       "      <th>rating</th>\n",
       "      <th>genre</th>\n",
       "      <th>director</th>\n",
       "      <th>writer</th>\n",
       "      <th>theater_date</th>\n",
       "      <th>dvd_date</th>\n",
       "      <th>currency</th>\n",
       "      <th>box_office</th>\n",
       "      <th>runtime</th>\n",
       "      <th>studio</th>\n",
       "    </tr>\n",
       "  </thead>\n",
       "  <tbody>\n",
       "    <tr>\n",
       "      <th>0</th>\n",
       "      <td>1</td>\n",
       "      <td>This gritty, fast-paced, and innovative police...</td>\n",
       "      <td>R</td>\n",
       "      <td>Action and Adventure|Classics|Drama</td>\n",
       "      <td>William Friedkin</td>\n",
       "      <td>Ernest Tidyman</td>\n",
       "      <td>Oct 9, 1971</td>\n",
       "      <td>Sep 25, 2001</td>\n",
       "      <td>NaN</td>\n",
       "      <td>NaN</td>\n",
       "      <td>104 minutes</td>\n",
       "      <td>NaN</td>\n",
       "    </tr>\n",
       "    <tr>\n",
       "      <th>1</th>\n",
       "      <td>3</td>\n",
       "      <td>New York City, not-too-distant-future: Eric Pa...</td>\n",
       "      <td>R</td>\n",
       "      <td>Drama|Science Fiction and Fantasy</td>\n",
       "      <td>David Cronenberg</td>\n",
       "      <td>David Cronenberg|Don DeLillo</td>\n",
       "      <td>Aug 17, 2012</td>\n",
       "      <td>Jan 1, 2013</td>\n",
       "      <td>$</td>\n",
       "      <td>600,000</td>\n",
       "      <td>108 minutes</td>\n",
       "      <td>Entertainment One</td>\n",
       "    </tr>\n",
       "    <tr>\n",
       "      <th>2</th>\n",
       "      <td>5</td>\n",
       "      <td>Illeana Douglas delivers a superb performance ...</td>\n",
       "      <td>R</td>\n",
       "      <td>Drama|Musical and Performing Arts</td>\n",
       "      <td>Allison Anders</td>\n",
       "      <td>Allison Anders</td>\n",
       "      <td>Sep 13, 1996</td>\n",
       "      <td>Apr 18, 2000</td>\n",
       "      <td>NaN</td>\n",
       "      <td>NaN</td>\n",
       "      <td>116 minutes</td>\n",
       "      <td>NaN</td>\n",
       "    </tr>\n",
       "    <tr>\n",
       "      <th>3</th>\n",
       "      <td>6</td>\n",
       "      <td>Michael Douglas runs afoul of a treacherous su...</td>\n",
       "      <td>R</td>\n",
       "      <td>Drama|Mystery and Suspense</td>\n",
       "      <td>Barry Levinson</td>\n",
       "      <td>Paul Attanasio|Michael Crichton</td>\n",
       "      <td>Dec 9, 1994</td>\n",
       "      <td>Aug 27, 1997</td>\n",
       "      <td>NaN</td>\n",
       "      <td>NaN</td>\n",
       "      <td>128 minutes</td>\n",
       "      <td>NaN</td>\n",
       "    </tr>\n",
       "    <tr>\n",
       "      <th>4</th>\n",
       "      <td>7</td>\n",
       "      <td>NaN</td>\n",
       "      <td>NR</td>\n",
       "      <td>Drama|Romance</td>\n",
       "      <td>Rodney Bennett</td>\n",
       "      <td>Giles Cooper</td>\n",
       "      <td>NaN</td>\n",
       "      <td>NaN</td>\n",
       "      <td>NaN</td>\n",
       "      <td>NaN</td>\n",
       "      <td>200 minutes</td>\n",
       "      <td>NaN</td>\n",
       "    </tr>\n",
       "  </tbody>\n",
       "</table>\n",
       "</div>"
      ],
      "text/plain": [
       "   id                                           synopsis rating  \\\n",
       "0   1  This gritty, fast-paced, and innovative police...      R   \n",
       "1   3  New York City, not-too-distant-future: Eric Pa...      R   \n",
       "2   5  Illeana Douglas delivers a superb performance ...      R   \n",
       "3   6  Michael Douglas runs afoul of a treacherous su...      R   \n",
       "4   7                                                NaN     NR   \n",
       "\n",
       "                                 genre          director  \\\n",
       "0  Action and Adventure|Classics|Drama  William Friedkin   \n",
       "1    Drama|Science Fiction and Fantasy  David Cronenberg   \n",
       "2    Drama|Musical and Performing Arts    Allison Anders   \n",
       "3           Drama|Mystery and Suspense    Barry Levinson   \n",
       "4                        Drama|Romance    Rodney Bennett   \n",
       "\n",
       "                            writer  theater_date      dvd_date currency  \\\n",
       "0                   Ernest Tidyman   Oct 9, 1971  Sep 25, 2001      NaN   \n",
       "1     David Cronenberg|Don DeLillo  Aug 17, 2012   Jan 1, 2013        $   \n",
       "2                   Allison Anders  Sep 13, 1996  Apr 18, 2000      NaN   \n",
       "3  Paul Attanasio|Michael Crichton   Dec 9, 1994  Aug 27, 1997      NaN   \n",
       "4                     Giles Cooper           NaN           NaN      NaN   \n",
       "\n",
       "  box_office      runtime             studio  \n",
       "0        NaN  104 minutes                NaN  \n",
       "1    600,000  108 minutes  Entertainment One  \n",
       "2        NaN  116 minutes                NaN  \n",
       "3        NaN  128 minutes                NaN  \n",
       "4        NaN  200 minutes                NaN  "
      ]
     },
     "execution_count": 67,
     "metadata": {},
     "output_type": "execute_result"
    }
   ],
   "source": [
    "rotten_tomatoes_movies_df = pd.read_csv('data/zippeddata/rt.movie_info.tsv.gz', delimiter = '\\t')\n",
    "rotten_tomatoes_movies_df.head()"
   ]
  },
  {
   "cell_type": "code",
   "execution_count": 51,
   "metadata": {},
   "outputs": [
    {
     "name": "stdout",
     "output_type": "stream",
     "text": [
      "<class 'pandas.core.frame.DataFrame'>\n",
      "RangeIndex: 1560 entries, 0 to 1559\n",
      "Data columns (total 12 columns):\n",
      " #   Column        Non-Null Count  Dtype \n",
      "---  ------        --------------  ----- \n",
      " 0   id            1560 non-null   int64 \n",
      " 1   synopsis      1498 non-null   object\n",
      " 2   rating        1557 non-null   object\n",
      " 3   genre         1552 non-null   object\n",
      " 4   director      1361 non-null   object\n",
      " 5   writer        1111 non-null   object\n",
      " 6   theater_date  1201 non-null   object\n",
      " 7   dvd_date      1201 non-null   object\n",
      " 8   currency      340 non-null    object\n",
      " 9   box_office    340 non-null    object\n",
      " 10  runtime       1530 non-null   object\n",
      " 11  studio        494 non-null    object\n",
      "dtypes: int64(1), object(11)\n",
      "memory usage: 146.4+ KB\n"
     ]
    }
   ],
   "source": [
    "rotten_tomatoes_movies_df.info()"
   ]
  },
  {
   "cell_type": "code",
   "execution_count": 52,
   "metadata": {},
   "outputs": [
    {
     "data": {
      "text/plain": [
       "Index(['id', 'synopsis', 'rating', 'genre', 'director', 'writer',\n",
       "       'theater_date', 'dvd_date', 'currency', 'box_office', 'runtime',\n",
       "       'studio'],\n",
       "      dtype='object')"
      ]
     },
     "execution_count": 52,
     "metadata": {},
     "output_type": "execute_result"
    }
   ],
   "source": [
    "rotten_tomatoes_movies_df.columns"
   ]
  },
  {
   "cell_type": "code",
   "execution_count": 74,
   "metadata": {},
   "outputs": [
    {
     "data": {
      "text/html": [
       "<div>\n",
       "<style scoped>\n",
       "    .dataframe tbody tr th:only-of-type {\n",
       "        vertical-align: middle;\n",
       "    }\n",
       "\n",
       "    .dataframe tbody tr th {\n",
       "        vertical-align: top;\n",
       "    }\n",
       "\n",
       "    .dataframe thead th {\n",
       "        text-align: right;\n",
       "    }\n",
       "</style>\n",
       "<table border=\"1\" class=\"dataframe\">\n",
       "  <thead>\n",
       "    <tr style=\"text-align: right;\">\n",
       "      <th></th>\n",
       "      <th>id</th>\n",
       "      <th>review</th>\n",
       "      <th>rating</th>\n",
       "      <th>fresh</th>\n",
       "      <th>critic</th>\n",
       "      <th>top_critic</th>\n",
       "      <th>publisher</th>\n",
       "      <th>date</th>\n",
       "    </tr>\n",
       "  </thead>\n",
       "  <tbody>\n",
       "    <tr>\n",
       "      <th>0</th>\n",
       "      <td>3</td>\n",
       "      <td>A distinctly gallows take on contemporary fina...</td>\n",
       "      <td>3/5</td>\n",
       "      <td>fresh</td>\n",
       "      <td>PJ Nabarro</td>\n",
       "      <td>0</td>\n",
       "      <td>Patrick Nabarro</td>\n",
       "      <td>November 10, 2018</td>\n",
       "    </tr>\n",
       "    <tr>\n",
       "      <th>1</th>\n",
       "      <td>3</td>\n",
       "      <td>It's an allegory in search of a meaning that n...</td>\n",
       "      <td>NaN</td>\n",
       "      <td>rotten</td>\n",
       "      <td>Annalee Newitz</td>\n",
       "      <td>0</td>\n",
       "      <td>io9.com</td>\n",
       "      <td>May 23, 2018</td>\n",
       "    </tr>\n",
       "    <tr>\n",
       "      <th>2</th>\n",
       "      <td>3</td>\n",
       "      <td>... life lived in a bubble in financial dealin...</td>\n",
       "      <td>NaN</td>\n",
       "      <td>fresh</td>\n",
       "      <td>Sean Axmaker</td>\n",
       "      <td>0</td>\n",
       "      <td>Stream on Demand</td>\n",
       "      <td>January 4, 2018</td>\n",
       "    </tr>\n",
       "    <tr>\n",
       "      <th>3</th>\n",
       "      <td>3</td>\n",
       "      <td>Continuing along a line introduced in last yea...</td>\n",
       "      <td>NaN</td>\n",
       "      <td>fresh</td>\n",
       "      <td>Daniel Kasman</td>\n",
       "      <td>0</td>\n",
       "      <td>MUBI</td>\n",
       "      <td>November 16, 2017</td>\n",
       "    </tr>\n",
       "    <tr>\n",
       "      <th>4</th>\n",
       "      <td>3</td>\n",
       "      <td>... a perverse twist on neorealism...</td>\n",
       "      <td>NaN</td>\n",
       "      <td>fresh</td>\n",
       "      <td>NaN</td>\n",
       "      <td>0</td>\n",
       "      <td>Cinema Scope</td>\n",
       "      <td>October 12, 2017</td>\n",
       "    </tr>\n",
       "  </tbody>\n",
       "</table>\n",
       "</div>"
      ],
      "text/plain": [
       "   id                                             review rating   fresh  \\\n",
       "0   3  A distinctly gallows take on contemporary fina...    3/5   fresh   \n",
       "1   3  It's an allegory in search of a meaning that n...    NaN  rotten   \n",
       "2   3  ... life lived in a bubble in financial dealin...    NaN   fresh   \n",
       "3   3  Continuing along a line introduced in last yea...    NaN   fresh   \n",
       "4   3             ... a perverse twist on neorealism...     NaN   fresh   \n",
       "\n",
       "           critic  top_critic         publisher               date  \n",
       "0      PJ Nabarro           0   Patrick Nabarro  November 10, 2018  \n",
       "1  Annalee Newitz           0           io9.com       May 23, 2018  \n",
       "2    Sean Axmaker           0  Stream on Demand    January 4, 2018  \n",
       "3   Daniel Kasman           0              MUBI  November 16, 2017  \n",
       "4             NaN           0      Cinema Scope   October 12, 2017  "
      ]
     },
     "execution_count": 74,
     "metadata": {},
     "output_type": "execute_result"
    }
   ],
   "source": [
    "rotten_tomatoes_reviews_df = pd.read_csv('data/zippeddata/rt.reviews.tsv.gz', encoding = 'unicode_escape', delimiter = '\\t')\n",
    "rotten_tomatoes_reviews_df.head()"
   ]
  },
  {
   "cell_type": "code",
   "execution_count": 75,
   "metadata": {},
   "outputs": [
    {
     "name": "stdout",
     "output_type": "stream",
     "text": [
      "<class 'pandas.core.frame.DataFrame'>\n",
      "RangeIndex: 54432 entries, 0 to 54431\n",
      "Data columns (total 8 columns):\n",
      " #   Column      Non-Null Count  Dtype \n",
      "---  ------      --------------  ----- \n",
      " 0   id          54432 non-null  int64 \n",
      " 1   review      48869 non-null  object\n",
      " 2   rating      40915 non-null  object\n",
      " 3   fresh       54432 non-null  object\n",
      " 4   critic      51710 non-null  object\n",
      " 5   top_critic  54432 non-null  int64 \n",
      " 6   publisher   54123 non-null  object\n",
      " 7   date        54432 non-null  object\n",
      "dtypes: int64(2), object(6)\n",
      "memory usage: 3.3+ MB\n"
     ]
    }
   ],
   "source": [
    "rotten_tomatoes_reviews_df.info()"
   ]
  },
  {
   "cell_type": "code",
   "execution_count": null,
   "metadata": {},
   "outputs": [],
   "source": [
    "#You can merge the data frames movie budgets, rotten tomatoes reviews and rotten tomatoes movies "
   ]
  },
  {
   "cell_type": "markdown",
   "metadata": {},
   "source": [
    "## Data Preparation\n",
    "\n",
    "Describe and justify the process for preparing the data for analysis.\n",
    "\n",
    "***\n",
    "Questions to consider:\n",
    "* Were there variables you dropped or created?\n",
    "* How did you address missing values or outliers?\n",
    "* Why are these choices appropriate given the data and the business problem?\n",
    "***"
   ]
  },
  {
   "cell_type": "code",
   "execution_count": 6,
   "metadata": {},
   "outputs": [],
   "source": [
    "# Here you run your code to clean the data"
   ]
  },
  {
   "cell_type": "markdown",
   "metadata": {},
   "source": [
    "## Data Modeling\n",
    "Describe and justify the process for analyzing or modeling the data.\n",
    "\n",
    "***\n",
    "Questions to consider:\n",
    "* How did you analyze or model the data?\n",
    "* How did you iterate on your initial approach to make it better?\n",
    "* Why are these choices appropriate given the data and the business problem?\n",
    "***"
   ]
  },
  {
   "cell_type": "code",
   "execution_count": null,
   "metadata": {},
   "outputs": [],
   "source": [
    "# Here you run your code to model the data\n"
   ]
  },
  {
   "cell_type": "markdown",
   "metadata": {},
   "source": [
    "## Evaluation\n",
    "Evaluate how well your work solves the stated business problem.\n",
    "\n",
    "***\n",
    "Questions to consider:\n",
    "* How do you interpret the results?\n",
    "* How well does your model fit your data? How much better is this than your baseline model?\n",
    "* How confident are you that your results would generalize beyond the data you have?\n",
    "* How confident are you that this model would benefit the business if put into use?\n",
    "***"
   ]
  },
  {
   "cell_type": "markdown",
   "metadata": {},
   "source": [
    "## Conclusions\n",
    "Provide your conclusions about the work you've done, including any limitations or next steps.\n",
    "\n",
    "***\n",
    "Questions to consider:\n",
    "* What would you recommend the business do as a result of this work?\n",
    "* What are some reasons why your analysis might not fully solve the business problem?\n",
    "* What else could you do in the future to improve this project?\n",
    "***"
   ]
  }
 ],
 "metadata": {
  "kernelspec": {
   "display_name": "Python 3",
   "language": "python",
   "name": "python3"
  },
  "language_info": {
   "codemirror_mode": {
    "name": "ipython",
    "version": 3
   },
   "file_extension": ".py",
   "mimetype": "text/x-python",
   "name": "python",
   "nbconvert_exporter": "python",
   "pygments_lexer": "ipython3",
   "version": "3.8.5"
  },
  "toc": {
   "base_numbering": 1,
   "nav_menu": {},
   "number_sections": true,
   "sideBar": true,
   "skip_h1_title": false,
   "title_cell": "Table of Contents",
   "title_sidebar": "Contents",
   "toc_cell": false,
   "toc_position": {},
   "toc_section_display": true,
   "toc_window_display": false
  }
 },
 "nbformat": 4,
 "nbformat_minor": 4
}
