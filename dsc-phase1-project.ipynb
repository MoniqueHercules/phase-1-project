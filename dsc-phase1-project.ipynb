{
 "cells": [
  {
   "cell_type": "markdown",
   "metadata": {},
   "source": [
    "![example](images/director_shot.jpeg)"
   ]
  },
  {
   "cell_type": "markdown",
   "metadata": {},
   "source": [
    "# Microsoft New Movie Studio\n",
    "\n",
    "**Authors:** Monique Hercules \n",
    "***"
   ]
  },
  {
   "cell_type": "markdown",
   "metadata": {},
   "source": [
    "## Overview\n",
    "\n",
    "An analysis of the movie industry to gain insight on what it takes to not just make a movie, but a movie that stands the weight of time. From the insights gathered we will be able to create a template to create a successful new movie studio.\n",
    "\n",
    "The new studio can use this information to predict the best production budget, genre and studio best practices needed make a successful movie studio. \n",
    "\n",
    "That datasets used will be from notable movie databases like IMBD and The Numbers  along with a few others. "
   ]
  },
  {
   "cell_type": "markdown",
   "metadata": {},
   "source": [
    "## Business Problem\n",
    "\n",
    "The creation of a new movie studio is a daunting task but with the data analysis from notable movie databases we will be able to gain some insights that answer a few questions. \n",
    "\n",
    "First question, What's the most profitable movies with inflation accounted for in comparison to production budget? We can determine the first few movies we need to make to be profitable immediately, while building rapport in the movie studio industry. \n",
    "\n",
    "\n",
    "Second question, what studios produced the most profit? By figuring out the studios that produced the most profit we will be able to gleam best practices that can be modeled in production and film development.\n",
    "\n",
    "\n",
    "Third question, what genres on average produce the highest profit? This will give a direction to focus initial efforts upon, it will be best to start off producing movies in genres people already are fond of while avoiding high stake genres topics. \n"
   ]
  },
  {
   "cell_type": "markdown",
   "metadata": {},
   "source": [
    "## Data Understanding\n",
    "***"
   ]
  },
  {
   "cell_type": "markdown",
   "metadata": {},
   "source": [
    "IMBD and The Numbers (a data movie business website) is where the datasets is from. We will be able to use this data to discern the attributes a new movie studio would need based on the various target variables, like production cost, genres, and profitability. \n",
    "\n",
    "These data files feature genre, title, various budgets and a wide variety of review types.\n",
    "\n",
    "***\n",
    "\n"
   ]
  },
  {
   "cell_type": "markdown",
   "metadata": {},
   "source": [
    "Importing all revelant libraries to analyze the dataframes"
   ]
  },
  {
   "cell_type": "code",
   "execution_count": 1,
   "metadata": {
    "ExecuteTime": {
     "end_time": "2022-01-15T00:08:12.711138Z",
     "start_time": "2022-01-15T00:07:02.604178Z"
    }
   },
   "outputs": [],
   "source": [
    "# Import standard packages\n",
    "import pandas as pd\n",
    "import numpy as np\n",
    "import matplotlib.pyplot as plt\n",
    "import seaborn as sns\n",
    "%matplotlib inline\n",
    "import cpi\n",
    "\n",
    "cpi.update()"
   ]
  },
  {
   "cell_type": "markdown",
   "metadata": {},
   "source": [
    "Imported all the dataframes to explore information contained in each "
   ]
  },
  {
   "cell_type": "code",
   "execution_count": 2,
   "metadata": {
    "ExecuteTime": {
     "end_time": "2022-01-15T00:08:13.085435Z",
     "start_time": "2022-01-15T00:08:12.714226Z"
    }
   },
   "outputs": [],
   "source": [
    "movie_budgets = pd.read_csv('data/zippedData/tn.movie_budgets.csv.gz',\n",
    "                            index_col=0)\n",
    "\n",
    "movie_gross = pd.read_csv('data/zippeddata/bom.movie_gross.csv.gz')\n",
    "\n",
    "imdb_title_basics = pd.read_csv('data/zippedData/imdb.title.basics.csv.gz')"
   ]
  },
  {
   "cell_type": "markdown",
   "metadata": {},
   "source": [
    "Exploration of each dataframe to have a comprenhensive idea of each dataframe as a whole "
   ]
  },
  {
   "cell_type": "markdown",
   "metadata": {},
   "source": [
    "The ```movie_budgets``` data frame feature information that will benefit the calculation of the profitability of the movies in the dataset. This data frame has the production budget along with the movie name, giving us the basis of the type of budget needed to make a profitable movie."
   ]
  },
  {
   "cell_type": "code",
   "execution_count": 3,
   "metadata": {
    "ExecuteTime": {
     "end_time": "2022-01-15T00:08:13.109468Z",
     "start_time": "2022-01-15T00:08:13.088669Z"
    },
    "scrolled": true
   },
   "outputs": [
    {
     "data": {
      "text/html": [
       "<div>\n",
       "<style scoped>\n",
       "    .dataframe tbody tr th:only-of-type {\n",
       "        vertical-align: middle;\n",
       "    }\n",
       "\n",
       "    .dataframe tbody tr th {\n",
       "        vertical-align: top;\n",
       "    }\n",
       "\n",
       "    .dataframe thead th {\n",
       "        text-align: right;\n",
       "    }\n",
       "</style>\n",
       "<table border=\"1\" class=\"dataframe\">\n",
       "  <thead>\n",
       "    <tr style=\"text-align: right;\">\n",
       "      <th></th>\n",
       "      <th>release_date</th>\n",
       "      <th>movie</th>\n",
       "      <th>production_budget</th>\n",
       "      <th>domestic_gross</th>\n",
       "      <th>worldwide_gross</th>\n",
       "    </tr>\n",
       "    <tr>\n",
       "      <th>id</th>\n",
       "      <th></th>\n",
       "      <th></th>\n",
       "      <th></th>\n",
       "      <th></th>\n",
       "      <th></th>\n",
       "    </tr>\n",
       "  </thead>\n",
       "  <tbody>\n",
       "    <tr>\n",
       "      <th>1</th>\n",
       "      <td>Dec 18, 2009</td>\n",
       "      <td>Avatar</td>\n",
       "      <td>$425,000,000</td>\n",
       "      <td>$760,507,625</td>\n",
       "      <td>$2,776,345,279</td>\n",
       "    </tr>\n",
       "    <tr>\n",
       "      <th>2</th>\n",
       "      <td>May 20, 2011</td>\n",
       "      <td>Pirates of the Caribbean: On Stranger Tides</td>\n",
       "      <td>$410,600,000</td>\n",
       "      <td>$241,063,875</td>\n",
       "      <td>$1,045,663,875</td>\n",
       "    </tr>\n",
       "    <tr>\n",
       "      <th>3</th>\n",
       "      <td>Jun 7, 2019</td>\n",
       "      <td>Dark Phoenix</td>\n",
       "      <td>$350,000,000</td>\n",
       "      <td>$42,762,350</td>\n",
       "      <td>$149,762,350</td>\n",
       "    </tr>\n",
       "    <tr>\n",
       "      <th>4</th>\n",
       "      <td>May 1, 2015</td>\n",
       "      <td>Avengers: Age of Ultron</td>\n",
       "      <td>$330,600,000</td>\n",
       "      <td>$459,005,868</td>\n",
       "      <td>$1,403,013,963</td>\n",
       "    </tr>\n",
       "    <tr>\n",
       "      <th>5</th>\n",
       "      <td>Dec 15, 2017</td>\n",
       "      <td>Star Wars Ep. VIII: The Last Jedi</td>\n",
       "      <td>$317,000,000</td>\n",
       "      <td>$620,181,382</td>\n",
       "      <td>$1,316,721,747</td>\n",
       "    </tr>\n",
       "  </tbody>\n",
       "</table>\n",
       "</div>"
      ],
      "text/plain": [
       "    release_date                                        movie  \\\n",
       "id                                                              \n",
       "1   Dec 18, 2009                                       Avatar   \n",
       "2   May 20, 2011  Pirates of the Caribbean: On Stranger Tides   \n",
       "3    Jun 7, 2019                                 Dark Phoenix   \n",
       "4    May 1, 2015                      Avengers: Age of Ultron   \n",
       "5   Dec 15, 2017            Star Wars Ep. VIII: The Last Jedi   \n",
       "\n",
       "   production_budget domestic_gross worldwide_gross  \n",
       "id                                                   \n",
       "1       $425,000,000   $760,507,625  $2,776,345,279  \n",
       "2       $410,600,000   $241,063,875  $1,045,663,875  \n",
       "3       $350,000,000    $42,762,350    $149,762,350  \n",
       "4       $330,600,000   $459,005,868  $1,403,013,963  \n",
       "5       $317,000,000   $620,181,382  $1,316,721,747  "
      ]
     },
     "execution_count": 3,
     "metadata": {},
     "output_type": "execute_result"
    }
   ],
   "source": [
    "# Used this for first question. Merge two tables together, movie_budgets and\n",
    "# movie_gross\n",
    "movie_budgets.head()"
   ]
  },
  {
   "cell_type": "markdown",
   "metadata": {},
   "source": [
    "The ```movie_gross```  provides us with the ```title``` and ```year```, it will only need to be altered slightly to merge to the first data frame.\n"
   ]
  },
  {
   "cell_type": "code",
   "execution_count": 4,
   "metadata": {
    "ExecuteTime": {
     "end_time": "2022-01-15T00:08:13.121094Z",
     "start_time": "2022-01-15T00:08:13.111722Z"
    }
   },
   "outputs": [
    {
     "data": {
      "text/html": [
       "<div>\n",
       "<style scoped>\n",
       "    .dataframe tbody tr th:only-of-type {\n",
       "        vertical-align: middle;\n",
       "    }\n",
       "\n",
       "    .dataframe tbody tr th {\n",
       "        vertical-align: top;\n",
       "    }\n",
       "\n",
       "    .dataframe thead th {\n",
       "        text-align: right;\n",
       "    }\n",
       "</style>\n",
       "<table border=\"1\" class=\"dataframe\">\n",
       "  <thead>\n",
       "    <tr style=\"text-align: right;\">\n",
       "      <th></th>\n",
       "      <th>title</th>\n",
       "      <th>studio</th>\n",
       "      <th>domestic_gross</th>\n",
       "      <th>foreign_gross</th>\n",
       "      <th>year</th>\n",
       "    </tr>\n",
       "  </thead>\n",
       "  <tbody>\n",
       "    <tr>\n",
       "      <th>0</th>\n",
       "      <td>Toy Story 3</td>\n",
       "      <td>BV</td>\n",
       "      <td>415000000.0</td>\n",
       "      <td>652000000</td>\n",
       "      <td>2010</td>\n",
       "    </tr>\n",
       "    <tr>\n",
       "      <th>1</th>\n",
       "      <td>Alice in Wonderland (2010)</td>\n",
       "      <td>BV</td>\n",
       "      <td>334200000.0</td>\n",
       "      <td>691300000</td>\n",
       "      <td>2010</td>\n",
       "    </tr>\n",
       "    <tr>\n",
       "      <th>2</th>\n",
       "      <td>Harry Potter and the Deathly Hallows Part 1</td>\n",
       "      <td>WB</td>\n",
       "      <td>296000000.0</td>\n",
       "      <td>664300000</td>\n",
       "      <td>2010</td>\n",
       "    </tr>\n",
       "    <tr>\n",
       "      <th>3</th>\n",
       "      <td>Inception</td>\n",
       "      <td>WB</td>\n",
       "      <td>292600000.0</td>\n",
       "      <td>535700000</td>\n",
       "      <td>2010</td>\n",
       "    </tr>\n",
       "    <tr>\n",
       "      <th>4</th>\n",
       "      <td>Shrek Forever After</td>\n",
       "      <td>P/DW</td>\n",
       "      <td>238700000.0</td>\n",
       "      <td>513900000</td>\n",
       "      <td>2010</td>\n",
       "    </tr>\n",
       "  </tbody>\n",
       "</table>\n",
       "</div>"
      ],
      "text/plain": [
       "                                         title studio  domestic_gross  \\\n",
       "0                                  Toy Story 3     BV     415000000.0   \n",
       "1                   Alice in Wonderland (2010)     BV     334200000.0   \n",
       "2  Harry Potter and the Deathly Hallows Part 1     WB     296000000.0   \n",
       "3                                    Inception     WB     292600000.0   \n",
       "4                          Shrek Forever After   P/DW     238700000.0   \n",
       "\n",
       "  foreign_gross  year  \n",
       "0     652000000  2010  \n",
       "1     691300000  2010  \n",
       "2     664300000  2010  \n",
       "3     535700000  2010  \n",
       "4     513900000  2010  "
      ]
     },
     "execution_count": 4,
     "metadata": {},
     "output_type": "execute_result"
    }
   ],
   "source": [
    "movie_gross.head()  #Used this for first question"
   ]
  },
  {
   "cell_type": "code",
   "execution_count": 5,
   "metadata": {
    "ExecuteTime": {
     "end_time": "2022-01-15T00:08:13.133412Z",
     "start_time": "2022-01-15T00:08:13.123806Z"
    }
   },
   "outputs": [
    {
     "data": {
      "text/html": [
       "<div>\n",
       "<style scoped>\n",
       "    .dataframe tbody tr th:only-of-type {\n",
       "        vertical-align: middle;\n",
       "    }\n",
       "\n",
       "    .dataframe tbody tr th {\n",
       "        vertical-align: top;\n",
       "    }\n",
       "\n",
       "    .dataframe thead th {\n",
       "        text-align: right;\n",
       "    }\n",
       "</style>\n",
       "<table border=\"1\" class=\"dataframe\">\n",
       "  <thead>\n",
       "    <tr style=\"text-align: right;\">\n",
       "      <th></th>\n",
       "      <th>tconst</th>\n",
       "      <th>primary_title</th>\n",
       "      <th>original_title</th>\n",
       "      <th>start_year</th>\n",
       "      <th>runtime_minutes</th>\n",
       "      <th>genres</th>\n",
       "    </tr>\n",
       "  </thead>\n",
       "  <tbody>\n",
       "    <tr>\n",
       "      <th>0</th>\n",
       "      <td>tt0063540</td>\n",
       "      <td>Sunghursh</td>\n",
       "      <td>Sunghursh</td>\n",
       "      <td>2013</td>\n",
       "      <td>175.0</td>\n",
       "      <td>Action,Crime,Drama</td>\n",
       "    </tr>\n",
       "    <tr>\n",
       "      <th>1</th>\n",
       "      <td>tt0066787</td>\n",
       "      <td>One Day Before the Rainy Season</td>\n",
       "      <td>Ashad Ka Ek Din</td>\n",
       "      <td>2019</td>\n",
       "      <td>114.0</td>\n",
       "      <td>Biography,Drama</td>\n",
       "    </tr>\n",
       "    <tr>\n",
       "      <th>2</th>\n",
       "      <td>tt0069049</td>\n",
       "      <td>The Other Side of the Wind</td>\n",
       "      <td>The Other Side of the Wind</td>\n",
       "      <td>2018</td>\n",
       "      <td>122.0</td>\n",
       "      <td>Drama</td>\n",
       "    </tr>\n",
       "    <tr>\n",
       "      <th>3</th>\n",
       "      <td>tt0069204</td>\n",
       "      <td>Sabse Bada Sukh</td>\n",
       "      <td>Sabse Bada Sukh</td>\n",
       "      <td>2018</td>\n",
       "      <td>NaN</td>\n",
       "      <td>Comedy,Drama</td>\n",
       "    </tr>\n",
       "    <tr>\n",
       "      <th>4</th>\n",
       "      <td>tt0100275</td>\n",
       "      <td>The Wandering Soap Opera</td>\n",
       "      <td>La Telenovela Errante</td>\n",
       "      <td>2017</td>\n",
       "      <td>80.0</td>\n",
       "      <td>Comedy,Drama,Fantasy</td>\n",
       "    </tr>\n",
       "  </tbody>\n",
       "</table>\n",
       "</div>"
      ],
      "text/plain": [
       "      tconst                    primary_title              original_title  \\\n",
       "0  tt0063540                        Sunghursh                   Sunghursh   \n",
       "1  tt0066787  One Day Before the Rainy Season             Ashad Ka Ek Din   \n",
       "2  tt0069049       The Other Side of the Wind  The Other Side of the Wind   \n",
       "3  tt0069204                  Sabse Bada Sukh             Sabse Bada Sukh   \n",
       "4  tt0100275         The Wandering Soap Opera       La Telenovela Errante   \n",
       "\n",
       "   start_year  runtime_minutes                genres  \n",
       "0        2013            175.0    Action,Crime,Drama  \n",
       "1        2019            114.0       Biography,Drama  \n",
       "2        2018            122.0                 Drama  \n",
       "3        2018              NaN          Comedy,Drama  \n",
       "4        2017             80.0  Comedy,Drama,Fantasy  "
      ]
     },
     "execution_count": 5,
     "metadata": {},
     "output_type": "execute_result"
    }
   ],
   "source": [
    "imdb_title_basics.head()  # Used for second question"
   ]
  },
  {
   "cell_type": "markdown",
   "metadata": {},
   "source": [
    "## Data Preparation\n",
    "\n",
    "***\n",
    "\n",
    "Data Cleaning : \n",
    "\n",
    "- Standardized column names,merged datasets and dropped unnecessary columns to make them easier to work with. \n",
    "\n",
    "- Cleaned through the various data by removing Nan variables (when applicable), commas and the symbols and while also converting data types.This made merging datasets possible.\n",
    "\n",
    "- Combining datasets aided the creation of a few variables from ```profit_margin``` to ```profit_inflation``` to name a few.\n",
    "- Inflation was taken in consideration to make the production cost and profit applicable to the current market.\n",
    "***"
   ]
  },
  {
   "cell_type": "markdown",
   "metadata": {},
   "source": [
    "Changing the name of \"movie\" to \"title\" in the dataframe, to merge the dataframes ```movie_budgets``` and ```movie_gross``` .This will place the movies all together in one column for easy reference. Also dropped the column ```release_date``` to clean up data"
   ]
  },
  {
   "cell_type": "code",
   "execution_count": 6,
   "metadata": {
    "ExecuteTime": {
     "end_time": "2022-01-15T00:08:13.143229Z",
     "start_time": "2022-01-15T00:08:13.135002Z"
    }
   },
   "outputs": [],
   "source": [
    "movie_budgets = movie_budgets.rename(columns={\n",
    "    'movie': 'title'\n",
    "}).drop(columns=['release_date'])\n",
    "#Changing the name of the 'movie' to 'title'"
   ]
  },
  {
   "cell_type": "markdown",
   "metadata": {},
   "source": [
    "Merging together the dataframes, to have the movies ```production_budget``` and ```worldwide_gross``` all together with the corresponding movie name. "
   ]
  },
  {
   "cell_type": "code",
   "execution_count": 7,
   "metadata": {
    "ExecuteTime": {
     "end_time": "2022-01-15T00:08:13.175045Z",
     "start_time": "2022-01-15T00:08:13.145802Z"
    }
   },
   "outputs": [
    {
     "data": {
      "text/html": [
       "<div>\n",
       "<style scoped>\n",
       "    .dataframe tbody tr th:only-of-type {\n",
       "        vertical-align: middle;\n",
       "    }\n",
       "\n",
       "    .dataframe tbody tr th {\n",
       "        vertical-align: top;\n",
       "    }\n",
       "\n",
       "    .dataframe thead th {\n",
       "        text-align: right;\n",
       "    }\n",
       "</style>\n",
       "<table border=\"1\" class=\"dataframe\">\n",
       "  <thead>\n",
       "    <tr style=\"text-align: right;\">\n",
       "      <th></th>\n",
       "      <th>title</th>\n",
       "      <th>production_budget</th>\n",
       "      <th>domestic_gross_x</th>\n",
       "      <th>worldwide_gross</th>\n",
       "      <th>studio</th>\n",
       "      <th>domestic_gross_y</th>\n",
       "      <th>foreign_gross</th>\n",
       "      <th>year</th>\n",
       "    </tr>\n",
       "  </thead>\n",
       "  <tbody>\n",
       "    <tr>\n",
       "      <th>0</th>\n",
       "      <td>Pirates of the Caribbean: On Stranger Tides</td>\n",
       "      <td>$410,600,000</td>\n",
       "      <td>$241,063,875</td>\n",
       "      <td>$1,045,663,875</td>\n",
       "      <td>BV</td>\n",
       "      <td>241100000.0</td>\n",
       "      <td>804600000</td>\n",
       "      <td>2011</td>\n",
       "    </tr>\n",
       "    <tr>\n",
       "      <th>1</th>\n",
       "      <td>Avengers: Age of Ultron</td>\n",
       "      <td>$330,600,000</td>\n",
       "      <td>$459,005,868</td>\n",
       "      <td>$1,403,013,963</td>\n",
       "      <td>BV</td>\n",
       "      <td>459000000.0</td>\n",
       "      <td>946400000</td>\n",
       "      <td>2015</td>\n",
       "    </tr>\n",
       "    <tr>\n",
       "      <th>2</th>\n",
       "      <td>Avengers: Infinity War</td>\n",
       "      <td>$300,000,000</td>\n",
       "      <td>$678,815,482</td>\n",
       "      <td>$2,048,134,200</td>\n",
       "      <td>BV</td>\n",
       "      <td>678800000.0</td>\n",
       "      <td>1,369.5</td>\n",
       "      <td>2018</td>\n",
       "    </tr>\n",
       "    <tr>\n",
       "      <th>3</th>\n",
       "      <td>Justice League</td>\n",
       "      <td>$300,000,000</td>\n",
       "      <td>$229,024,295</td>\n",
       "      <td>$655,945,209</td>\n",
       "      <td>WB</td>\n",
       "      <td>229000000.0</td>\n",
       "      <td>428900000</td>\n",
       "      <td>2017</td>\n",
       "    </tr>\n",
       "    <tr>\n",
       "      <th>4</th>\n",
       "      <td>Spectre</td>\n",
       "      <td>$300,000,000</td>\n",
       "      <td>$200,074,175</td>\n",
       "      <td>$879,620,923</td>\n",
       "      <td>Sony</td>\n",
       "      <td>200100000.0</td>\n",
       "      <td>680600000</td>\n",
       "      <td>2015</td>\n",
       "    </tr>\n",
       "  </tbody>\n",
       "</table>\n",
       "</div>"
      ],
      "text/plain": [
       "                                         title production_budget  \\\n",
       "0  Pirates of the Caribbean: On Stranger Tides      $410,600,000   \n",
       "1                      Avengers: Age of Ultron      $330,600,000   \n",
       "2                       Avengers: Infinity War      $300,000,000   \n",
       "3                               Justice League      $300,000,000   \n",
       "4                                      Spectre      $300,000,000   \n",
       "\n",
       "  domestic_gross_x worldwide_gross studio  domestic_gross_y foreign_gross  \\\n",
       "0     $241,063,875  $1,045,663,875     BV       241100000.0     804600000   \n",
       "1     $459,005,868  $1,403,013,963     BV       459000000.0     946400000   \n",
       "2     $678,815,482  $2,048,134,200     BV       678800000.0       1,369.5   \n",
       "3     $229,024,295    $655,945,209     WB       229000000.0     428900000   \n",
       "4     $200,074,175    $879,620,923   Sony       200100000.0     680600000   \n",
       "\n",
       "   year  \n",
       "0  2011  \n",
       "1  2015  \n",
       "2  2018  \n",
       "3  2017  \n",
       "4  2015  "
      ]
     },
     "execution_count": 7,
     "metadata": {},
     "output_type": "execute_result"
    }
   ],
   "source": [
    "movie_budget_and_profit = movie_budgets.merge(movie_gross, on='title')\n",
    "movie_budget_and_profit.head()\n",
    "#Merging the dataframes together for all the budgets and profits"
   ]
  },
  {
   "cell_type": "markdown",
   "metadata": {},
   "source": [
    "Currently our data has mix datatypes for money. For example ```domestic_gross_x``` is stored as text while ```domestic_gross_y``` is stored as a float. We remove the \"$\" and \",\" from ```production_budget```, ```domestic_gross_x```, and ```worldwide_gross``` in ```movie_budget_and_profit ``` to be able to perform calculations"
   ]
  },
  {
   "cell_type": "code",
   "execution_count": 8,
   "metadata": {
    "ExecuteTime": {
     "end_time": "2022-01-15T00:08:13.244041Z",
     "start_time": "2022-01-15T00:08:13.178695Z"
    }
   },
   "outputs": [
    {
     "name": "stdout",
     "output_type": "stream",
     "text": [
      "<class 'pandas.core.frame.DataFrame'>\n",
      "Int64Index: 1247 entries, 0 to 1246\n",
      "Data columns (total 8 columns):\n",
      " #   Column             Non-Null Count  Dtype  \n",
      "---  ------             --------------  -----  \n",
      " 0   title              1247 non-null   object \n",
      " 1   production_budget  1247 non-null   float64\n",
      " 2   domestic_gross_x   1247 non-null   object \n",
      " 3   worldwide_gross    1247 non-null   float64\n",
      " 4   studio             1246 non-null   object \n",
      " 5   domestic_gross_y   1245 non-null   float64\n",
      " 6   foreign_gross      1086 non-null   object \n",
      " 7   year               1247 non-null   int64  \n",
      "dtypes: float64(3), int64(1), object(4)\n",
      "memory usage: 87.7+ KB\n"
     ]
    }
   ],
   "source": [
    "#Removing '$' and ',' from money valyes\n",
    "movie_budget_and_profit[\n",
    "    movie_budget_and_profit.columns[1:4]] = movie_budget_and_profit[\n",
    "        movie_budget_and_profit.columns[1:4]].replace('[\\$|,]', '', regex=True)\n",
    "\n",
    "# Converting strings money values into floats\n",
    "movie_budget_and_profit['worldwide_gross'] = movie_budget_and_profit[\n",
    "    'worldwide_gross'].astype(str).astype(float)\n",
    "movie_budget_and_profit['production_budget'] = movie_budget_and_profit[\n",
    "    'production_budget'].astype(str).astype(float)\n",
    "movie_budget_and_profit.info()"
   ]
  },
  {
   "cell_type": "markdown",
   "metadata": {},
   "source": [
    "Subtracted the ```production_budget``` column from the ```worldwide_gross``` column producing the new column ``` Profit```. \n",
    " "
   ]
  },
  {
   "cell_type": "code",
   "execution_count": 9,
   "metadata": {
    "ExecuteTime": {
     "end_time": "2022-01-15T00:08:13.273476Z",
     "start_time": "2022-01-15T00:08:13.247208Z"
    },
    "scrolled": true
   },
   "outputs": [
    {
     "data": {
      "text/html": [
       "<div>\n",
       "<style scoped>\n",
       "    .dataframe tbody tr th:only-of-type {\n",
       "        vertical-align: middle;\n",
       "    }\n",
       "\n",
       "    .dataframe tbody tr th {\n",
       "        vertical-align: top;\n",
       "    }\n",
       "\n",
       "    .dataframe thead th {\n",
       "        text-align: right;\n",
       "    }\n",
       "</style>\n",
       "<table border=\"1\" class=\"dataframe\">\n",
       "  <thead>\n",
       "    <tr style=\"text-align: right;\">\n",
       "      <th></th>\n",
       "      <th>title</th>\n",
       "      <th>production_budget</th>\n",
       "      <th>domestic_gross_x</th>\n",
       "      <th>worldwide_gross</th>\n",
       "      <th>studio</th>\n",
       "      <th>domestic_gross_y</th>\n",
       "      <th>foreign_gross</th>\n",
       "      <th>year</th>\n",
       "      <th>Profit</th>\n",
       "    </tr>\n",
       "  </thead>\n",
       "  <tbody>\n",
       "    <tr>\n",
       "      <th>0</th>\n",
       "      <td>Pirates of the Caribbean: On Stranger Tides</td>\n",
       "      <td>410600000.0</td>\n",
       "      <td>241063875</td>\n",
       "      <td>1.045664e+09</td>\n",
       "      <td>BV</td>\n",
       "      <td>241100000.0</td>\n",
       "      <td>804600000</td>\n",
       "      <td>2011</td>\n",
       "      <td>6.350639e+08</td>\n",
       "    </tr>\n",
       "    <tr>\n",
       "      <th>1</th>\n",
       "      <td>Avengers: Age of Ultron</td>\n",
       "      <td>330600000.0</td>\n",
       "      <td>459005868</td>\n",
       "      <td>1.403014e+09</td>\n",
       "      <td>BV</td>\n",
       "      <td>459000000.0</td>\n",
       "      <td>946400000</td>\n",
       "      <td>2015</td>\n",
       "      <td>1.072414e+09</td>\n",
       "    </tr>\n",
       "    <tr>\n",
       "      <th>2</th>\n",
       "      <td>Avengers: Infinity War</td>\n",
       "      <td>300000000.0</td>\n",
       "      <td>678815482</td>\n",
       "      <td>2.048134e+09</td>\n",
       "      <td>BV</td>\n",
       "      <td>678800000.0</td>\n",
       "      <td>1,369.5</td>\n",
       "      <td>2018</td>\n",
       "      <td>1.748134e+09</td>\n",
       "    </tr>\n",
       "    <tr>\n",
       "      <th>3</th>\n",
       "      <td>Justice League</td>\n",
       "      <td>300000000.0</td>\n",
       "      <td>229024295</td>\n",
       "      <td>6.559452e+08</td>\n",
       "      <td>WB</td>\n",
       "      <td>229000000.0</td>\n",
       "      <td>428900000</td>\n",
       "      <td>2017</td>\n",
       "      <td>3.559452e+08</td>\n",
       "    </tr>\n",
       "    <tr>\n",
       "      <th>4</th>\n",
       "      <td>Spectre</td>\n",
       "      <td>300000000.0</td>\n",
       "      <td>200074175</td>\n",
       "      <td>8.796209e+08</td>\n",
       "      <td>Sony</td>\n",
       "      <td>200100000.0</td>\n",
       "      <td>680600000</td>\n",
       "      <td>2015</td>\n",
       "      <td>5.796209e+08</td>\n",
       "    </tr>\n",
       "  </tbody>\n",
       "</table>\n",
       "</div>"
      ],
      "text/plain": [
       "                                         title  production_budget  \\\n",
       "0  Pirates of the Caribbean: On Stranger Tides        410600000.0   \n",
       "1                      Avengers: Age of Ultron        330600000.0   \n",
       "2                       Avengers: Infinity War        300000000.0   \n",
       "3                               Justice League        300000000.0   \n",
       "4                                      Spectre        300000000.0   \n",
       "\n",
       "  domestic_gross_x  worldwide_gross studio  domestic_gross_y foreign_gross  \\\n",
       "0        241063875     1.045664e+09     BV       241100000.0     804600000   \n",
       "1        459005868     1.403014e+09     BV       459000000.0     946400000   \n",
       "2        678815482     2.048134e+09     BV       678800000.0       1,369.5   \n",
       "3        229024295     6.559452e+08     WB       229000000.0     428900000   \n",
       "4        200074175     8.796209e+08   Sony       200100000.0     680600000   \n",
       "\n",
       "   year        Profit  \n",
       "0  2011  6.350639e+08  \n",
       "1  2015  1.072414e+09  \n",
       "2  2018  1.748134e+09  \n",
       "3  2017  3.559452e+08  \n",
       "4  2015  5.796209e+08  "
      ]
     },
     "execution_count": 9,
     "metadata": {},
     "output_type": "execute_result"
    }
   ],
   "source": [
    "movie_budget_and_profit['Profit'] = movie_budget_and_profit[\n",
    "    'worldwide_gross'] - movie_budget_and_profit['production_budget']\n",
    "movie_budget_and_profit.sort_values('Profit')\n",
    "movie_budget_and_profit.head()\n",
    "\n",
    "# created the profit variable because I wanted to find the most profitable\n",
    "# movies."
   ]
  },
  {
   "cell_type": "markdown",
   "metadata": {},
   "source": [
    "Created the profit_margin column  to store the  ```profit_margin``` from the ```production_budget``` versus the ```worldwide_gross```"
   ]
  },
  {
   "cell_type": "code",
   "execution_count": 10,
   "metadata": {
    "ExecuteTime": {
     "end_time": "2022-01-15T00:08:13.301882Z",
     "start_time": "2022-01-15T00:08:13.282269Z"
    }
   },
   "outputs": [
    {
     "data": {
      "text/html": [
       "<div>\n",
       "<style scoped>\n",
       "    .dataframe tbody tr th:only-of-type {\n",
       "        vertical-align: middle;\n",
       "    }\n",
       "\n",
       "    .dataframe tbody tr th {\n",
       "        vertical-align: top;\n",
       "    }\n",
       "\n",
       "    .dataframe thead th {\n",
       "        text-align: right;\n",
       "    }\n",
       "</style>\n",
       "<table border=\"1\" class=\"dataframe\">\n",
       "  <thead>\n",
       "    <tr style=\"text-align: right;\">\n",
       "      <th></th>\n",
       "      <th>title</th>\n",
       "      <th>production_budget</th>\n",
       "      <th>domestic_gross_x</th>\n",
       "      <th>worldwide_gross</th>\n",
       "      <th>studio</th>\n",
       "      <th>domestic_gross_y</th>\n",
       "      <th>foreign_gross</th>\n",
       "      <th>year</th>\n",
       "      <th>Profit</th>\n",
       "      <th>Profit_Margin</th>\n",
       "    </tr>\n",
       "  </thead>\n",
       "  <tbody>\n",
       "    <tr>\n",
       "      <th>0</th>\n",
       "      <td>Pirates of the Caribbean: On Stranger Tides</td>\n",
       "      <td>410600000.0</td>\n",
       "      <td>241063875</td>\n",
       "      <td>1.045664e+09</td>\n",
       "      <td>BV</td>\n",
       "      <td>241100000.0</td>\n",
       "      <td>804600000</td>\n",
       "      <td>2011</td>\n",
       "      <td>6.350639e+08</td>\n",
       "      <td>0.607331</td>\n",
       "    </tr>\n",
       "    <tr>\n",
       "      <th>1</th>\n",
       "      <td>Avengers: Age of Ultron</td>\n",
       "      <td>330600000.0</td>\n",
       "      <td>459005868</td>\n",
       "      <td>1.403014e+09</td>\n",
       "      <td>BV</td>\n",
       "      <td>459000000.0</td>\n",
       "      <td>946400000</td>\n",
       "      <td>2015</td>\n",
       "      <td>1.072414e+09</td>\n",
       "      <td>0.764364</td>\n",
       "    </tr>\n",
       "    <tr>\n",
       "      <th>2</th>\n",
       "      <td>Avengers: Infinity War</td>\n",
       "      <td>300000000.0</td>\n",
       "      <td>678815482</td>\n",
       "      <td>2.048134e+09</td>\n",
       "      <td>BV</td>\n",
       "      <td>678800000.0</td>\n",
       "      <td>1,369.5</td>\n",
       "      <td>2018</td>\n",
       "      <td>1.748134e+09</td>\n",
       "      <td>0.853525</td>\n",
       "    </tr>\n",
       "    <tr>\n",
       "      <th>3</th>\n",
       "      <td>Justice League</td>\n",
       "      <td>300000000.0</td>\n",
       "      <td>229024295</td>\n",
       "      <td>6.559452e+08</td>\n",
       "      <td>WB</td>\n",
       "      <td>229000000.0</td>\n",
       "      <td>428900000</td>\n",
       "      <td>2017</td>\n",
       "      <td>3.559452e+08</td>\n",
       "      <td>0.542645</td>\n",
       "    </tr>\n",
       "    <tr>\n",
       "      <th>4</th>\n",
       "      <td>Spectre</td>\n",
       "      <td>300000000.0</td>\n",
       "      <td>200074175</td>\n",
       "      <td>8.796209e+08</td>\n",
       "      <td>Sony</td>\n",
       "      <td>200100000.0</td>\n",
       "      <td>680600000</td>\n",
       "      <td>2015</td>\n",
       "      <td>5.796209e+08</td>\n",
       "      <td>0.658944</td>\n",
       "    </tr>\n",
       "  </tbody>\n",
       "</table>\n",
       "</div>"
      ],
      "text/plain": [
       "                                         title  production_budget  \\\n",
       "0  Pirates of the Caribbean: On Stranger Tides        410600000.0   \n",
       "1                      Avengers: Age of Ultron        330600000.0   \n",
       "2                       Avengers: Infinity War        300000000.0   \n",
       "3                               Justice League        300000000.0   \n",
       "4                                      Spectre        300000000.0   \n",
       "\n",
       "  domestic_gross_x  worldwide_gross studio  domestic_gross_y foreign_gross  \\\n",
       "0        241063875     1.045664e+09     BV       241100000.0     804600000   \n",
       "1        459005868     1.403014e+09     BV       459000000.0     946400000   \n",
       "2        678815482     2.048134e+09     BV       678800000.0       1,369.5   \n",
       "3        229024295     6.559452e+08     WB       229000000.0     428900000   \n",
       "4        200074175     8.796209e+08   Sony       200100000.0     680600000   \n",
       "\n",
       "   year        Profit  Profit_Margin  \n",
       "0  2011  6.350639e+08       0.607331  \n",
       "1  2015  1.072414e+09       0.764364  \n",
       "2  2018  1.748134e+09       0.853525  \n",
       "3  2017  3.559452e+08       0.542645  \n",
       "4  2015  5.796209e+08       0.658944  "
      ]
     },
     "execution_count": 10,
     "metadata": {},
     "output_type": "execute_result"
    }
   ],
   "source": [
    "movie_budget_and_profit['Profit_Margin'] = (\n",
    "    movie_budget_and_profit['worldwide_gross'] -\n",
    "    movie_budget_and_profit['production_budget']\n",
    ") / movie_budget_and_profit['worldwide_gross']\n",
    "\n",
    "movie_budget_and_profit.head()"
   ]
  },
  {
   "cell_type": "markdown",
   "metadata": {},
   "source": [
    "Accounted inflation for 2020 at for both the ```production_budget``` and the ```profit ```."
   ]
  },
  {
   "cell_type": "code",
   "execution_count": 11,
   "metadata": {
    "ExecuteTime": {
     "end_time": "2022-01-15T00:08:13.393993Z",
     "start_time": "2022-01-15T00:08:13.314917Z"
    }
   },
   "outputs": [
    {
     "data": {
      "text/html": [
       "<div>\n",
       "<style scoped>\n",
       "    .dataframe tbody tr th:only-of-type {\n",
       "        vertical-align: middle;\n",
       "    }\n",
       "\n",
       "    .dataframe tbody tr th {\n",
       "        vertical-align: top;\n",
       "    }\n",
       "\n",
       "    .dataframe thead th {\n",
       "        text-align: right;\n",
       "    }\n",
       "</style>\n",
       "<table border=\"1\" class=\"dataframe\">\n",
       "  <thead>\n",
       "    <tr style=\"text-align: right;\">\n",
       "      <th></th>\n",
       "      <th>title</th>\n",
       "      <th>production_budget</th>\n",
       "      <th>domestic_gross_x</th>\n",
       "      <th>worldwide_gross</th>\n",
       "      <th>studio</th>\n",
       "      <th>domestic_gross_y</th>\n",
       "      <th>foreign_gross</th>\n",
       "      <th>year</th>\n",
       "      <th>Profit</th>\n",
       "      <th>Profit_Margin</th>\n",
       "      <th>inflation_budget</th>\n",
       "      <th>profit_inflation_budget</th>\n",
       "    </tr>\n",
       "  </thead>\n",
       "  <tbody>\n",
       "    <tr>\n",
       "      <th>0</th>\n",
       "      <td>Pirates of the Caribbean: On Stranger Tides</td>\n",
       "      <td>410600000.0</td>\n",
       "      <td>241063875</td>\n",
       "      <td>1.045664e+09</td>\n",
       "      <td>BV</td>\n",
       "      <td>241100000.0</td>\n",
       "      <td>804600000</td>\n",
       "      <td>2011</td>\n",
       "      <td>6.350639e+08</td>\n",
       "      <td>0.607331</td>\n",
       "      <td>4.724294e+08</td>\n",
       "      <td>7.306937e+08</td>\n",
       "    </tr>\n",
       "    <tr>\n",
       "      <th>1</th>\n",
       "      <td>Avengers: Age of Ultron</td>\n",
       "      <td>330600000.0</td>\n",
       "      <td>459005868</td>\n",
       "      <td>1.403014e+09</td>\n",
       "      <td>BV</td>\n",
       "      <td>459000000.0</td>\n",
       "      <td>946400000</td>\n",
       "      <td>2015</td>\n",
       "      <td>1.072414e+09</td>\n",
       "      <td>0.764364</td>\n",
       "      <td>3.609991e+08</td>\n",
       "      <td>1.171024e+09</td>\n",
       "    </tr>\n",
       "    <tr>\n",
       "      <th>2</th>\n",
       "      <td>Avengers: Infinity War</td>\n",
       "      <td>300000000.0</td>\n",
       "      <td>678815482</td>\n",
       "      <td>2.048134e+09</td>\n",
       "      <td>BV</td>\n",
       "      <td>678800000.0</td>\n",
       "      <td>1,369.5</td>\n",
       "      <td>2018</td>\n",
       "      <td>1.748134e+09</td>\n",
       "      <td>0.853525</td>\n",
       "      <td>3.092040e+08</td>\n",
       "      <td>1.801767e+09</td>\n",
       "    </tr>\n",
       "    <tr>\n",
       "      <th>3</th>\n",
       "      <td>Justice League</td>\n",
       "      <td>300000000.0</td>\n",
       "      <td>229024295</td>\n",
       "      <td>6.559452e+08</td>\n",
       "      <td>WB</td>\n",
       "      <td>229000000.0</td>\n",
       "      <td>428900000</td>\n",
       "      <td>2017</td>\n",
       "      <td>3.559452e+08</td>\n",
       "      <td>0.542645</td>\n",
       "      <td>3.167563e+08</td>\n",
       "      <td>3.758263e+08</td>\n",
       "    </tr>\n",
       "    <tr>\n",
       "      <th>4</th>\n",
       "      <td>Spectre</td>\n",
       "      <td>300000000.0</td>\n",
       "      <td>200074175</td>\n",
       "      <td>8.796209e+08</td>\n",
       "      <td>Sony</td>\n",
       "      <td>200100000.0</td>\n",
       "      <td>680600000</td>\n",
       "      <td>2015</td>\n",
       "      <td>5.796209e+08</td>\n",
       "      <td>0.658944</td>\n",
       "      <td>3.275854e+08</td>\n",
       "      <td>6.329178e+08</td>\n",
       "    </tr>\n",
       "  </tbody>\n",
       "</table>\n",
       "</div>"
      ],
      "text/plain": [
       "                                         title  production_budget  \\\n",
       "0  Pirates of the Caribbean: On Stranger Tides        410600000.0   \n",
       "1                      Avengers: Age of Ultron        330600000.0   \n",
       "2                       Avengers: Infinity War        300000000.0   \n",
       "3                               Justice League        300000000.0   \n",
       "4                                      Spectre        300000000.0   \n",
       "\n",
       "  domestic_gross_x  worldwide_gross studio  domestic_gross_y foreign_gross  \\\n",
       "0        241063875     1.045664e+09     BV       241100000.0     804600000   \n",
       "1        459005868     1.403014e+09     BV       459000000.0     946400000   \n",
       "2        678815482     2.048134e+09     BV       678800000.0       1,369.5   \n",
       "3        229024295     6.559452e+08     WB       229000000.0     428900000   \n",
       "4        200074175     8.796209e+08   Sony       200100000.0     680600000   \n",
       "\n",
       "   year        Profit  Profit_Margin  inflation_budget  \\\n",
       "0  2011  6.350639e+08       0.607331      4.724294e+08   \n",
       "1  2015  1.072414e+09       0.764364      3.609991e+08   \n",
       "2  2018  1.748134e+09       0.853525      3.092040e+08   \n",
       "3  2017  3.559452e+08       0.542645      3.167563e+08   \n",
       "4  2015  5.796209e+08       0.658944      3.275854e+08   \n",
       "\n",
       "   profit_inflation_budget  \n",
       "0             7.306937e+08  \n",
       "1             1.171024e+09  \n",
       "2             1.801767e+09  \n",
       "3             3.758263e+08  \n",
       "4             6.329178e+08  "
      ]
     },
     "execution_count": 11,
     "metadata": {},
     "output_type": "execute_result"
    }
   ],
   "source": [
    "def inflate_budget_and_profit(column, ):\n",
    "    return movie_budget_and_profit.apply(\n",
    "        lambda row: cpi.inflate(row[column], row['year'], 2020), axis=1)\n",
    "\n",
    "\n",
    "movie_budget_and_profit['inflation_budget'] = inflate_budget_and_profit(\n",
    "    'production_budget')\n",
    "movie_budget_and_profit['profit_inflation_budget'] = inflate_budget_and_profit(\n",
    "    'Profit')\n",
    "\n",
    "movie_budget_and_profit.head()"
   ]
  },
  {
   "cell_type": "markdown",
   "metadata": {},
   "source": [
    "To address missing values and outliers I used a profit greater than 0 and sorted the ```most_profitable_movies``` in ascending order for easy reference.  "
   ]
  },
  {
   "cell_type": "code",
   "execution_count": 12,
   "metadata": {
    "ExecuteTime": {
     "end_time": "2022-01-15T00:08:13.413826Z",
     "start_time": "2022-01-15T00:08:13.395881Z"
    }
   },
   "outputs": [
    {
     "data": {
      "text/html": [
       "<div>\n",
       "<style scoped>\n",
       "    .dataframe tbody tr th:only-of-type {\n",
       "        vertical-align: middle;\n",
       "    }\n",
       "\n",
       "    .dataframe tbody tr th {\n",
       "        vertical-align: top;\n",
       "    }\n",
       "\n",
       "    .dataframe thead th {\n",
       "        text-align: right;\n",
       "    }\n",
       "</style>\n",
       "<table border=\"1\" class=\"dataframe\">\n",
       "  <thead>\n",
       "    <tr style=\"text-align: right;\">\n",
       "      <th></th>\n",
       "      <th>index</th>\n",
       "      <th>title</th>\n",
       "      <th>production_budget</th>\n",
       "      <th>domestic_gross_x</th>\n",
       "      <th>worldwide_gross</th>\n",
       "      <th>studio</th>\n",
       "      <th>domestic_gross_y</th>\n",
       "      <th>foreign_gross</th>\n",
       "      <th>year</th>\n",
       "      <th>Profit</th>\n",
       "      <th>Profit_Margin</th>\n",
       "      <th>inflation_budget</th>\n",
       "      <th>profit_inflation_budget</th>\n",
       "    </tr>\n",
       "  </thead>\n",
       "  <tbody>\n",
       "    <tr>\n",
       "      <th>0</th>\n",
       "      <td>2</td>\n",
       "      <td>Avengers: Infinity War</td>\n",
       "      <td>300000000.0</td>\n",
       "      <td>678815482</td>\n",
       "      <td>2.048134e+09</td>\n",
       "      <td>BV</td>\n",
       "      <td>678800000.0</td>\n",
       "      <td>1,369.5</td>\n",
       "      <td>2018</td>\n",
       "      <td>1.748134e+09</td>\n",
       "      <td>0.853525</td>\n",
       "      <td>3.092040e+08</td>\n",
       "      <td>1.801767e+09</td>\n",
       "    </tr>\n",
       "    <tr>\n",
       "      <th>1</th>\n",
       "      <td>21</td>\n",
       "      <td>Jurassic World</td>\n",
       "      <td>215000000.0</td>\n",
       "      <td>652270625</td>\n",
       "      <td>1.648855e+09</td>\n",
       "      <td>Uni.</td>\n",
       "      <td>652300000.0</td>\n",
       "      <td>1,019.4</td>\n",
       "      <td>2015</td>\n",
       "      <td>1.433855e+09</td>\n",
       "      <td>0.869606</td>\n",
       "      <td>2.347695e+08</td>\n",
       "      <td>1.565700e+09</td>\n",
       "    </tr>\n",
       "    <tr>\n",
       "      <th>2</th>\n",
       "      <td>40</td>\n",
       "      <td>Furious 7</td>\n",
       "      <td>190000000.0</td>\n",
       "      <td>353007020</td>\n",
       "      <td>1.518723e+09</td>\n",
       "      <td>Uni.</td>\n",
       "      <td>353000000.0</td>\n",
       "      <td>1,163.0</td>\n",
       "      <td>2015</td>\n",
       "      <td>1.328723e+09</td>\n",
       "      <td>0.874895</td>\n",
       "      <td>2.074707e+08</td>\n",
       "      <td>1.450900e+09</td>\n",
       "    </tr>\n",
       "    <tr>\n",
       "      <th>3</th>\n",
       "      <td>91</td>\n",
       "      <td>Frozen</td>\n",
       "      <td>150000000.0</td>\n",
       "      <td>400738009</td>\n",
       "      <td>1.272470e+09</td>\n",
       "      <td>BV</td>\n",
       "      <td>400700000.0</td>\n",
       "      <td>875700000</td>\n",
       "      <td>2013</td>\n",
       "      <td>1.122470e+09</td>\n",
       "      <td>0.882119</td>\n",
       "      <td>1.666473e+08</td>\n",
       "      <td>1.247044e+09</td>\n",
       "    </tr>\n",
       "    <tr>\n",
       "      <th>4</th>\n",
       "      <td>250</td>\n",
       "      <td>Minions</td>\n",
       "      <td>74000000.0</td>\n",
       "      <td>336045770</td>\n",
       "      <td>1.160336e+09</td>\n",
       "      <td>Uni.</td>\n",
       "      <td>336000000.0</td>\n",
       "      <td>823400000</td>\n",
       "      <td>2015</td>\n",
       "      <td>1.086336e+09</td>\n",
       "      <td>0.936225</td>\n",
       "      <td>8.080439e+07</td>\n",
       "      <td>1.186226e+09</td>\n",
       "    </tr>\n",
       "  </tbody>\n",
       "</table>\n",
       "</div>"
      ],
      "text/plain": [
       "   index                   title  production_budget domestic_gross_x  \\\n",
       "0      2  Avengers: Infinity War        300000000.0        678815482   \n",
       "1     21          Jurassic World        215000000.0        652270625   \n",
       "2     40               Furious 7        190000000.0        353007020   \n",
       "3     91                  Frozen        150000000.0        400738009   \n",
       "4    250                 Minions         74000000.0        336045770   \n",
       "\n",
       "   worldwide_gross studio  domestic_gross_y foreign_gross  year        Profit  \\\n",
       "0     2.048134e+09     BV       678800000.0       1,369.5  2018  1.748134e+09   \n",
       "1     1.648855e+09   Uni.       652300000.0       1,019.4  2015  1.433855e+09   \n",
       "2     1.518723e+09   Uni.       353000000.0       1,163.0  2015  1.328723e+09   \n",
       "3     1.272470e+09     BV       400700000.0     875700000  2013  1.122470e+09   \n",
       "4     1.160336e+09   Uni.       336000000.0     823400000  2015  1.086336e+09   \n",
       "\n",
       "   Profit_Margin  inflation_budget  profit_inflation_budget  \n",
       "0       0.853525      3.092040e+08             1.801767e+09  \n",
       "1       0.869606      2.347695e+08             1.565700e+09  \n",
       "2       0.874895      2.074707e+08             1.450900e+09  \n",
       "3       0.882119      1.666473e+08             1.247044e+09  \n",
       "4       0.936225      8.080439e+07             1.186226e+09  "
      ]
     },
     "execution_count": 12,
     "metadata": {},
     "output_type": "execute_result"
    }
   ],
   "source": [
    "profitable_movies = movie_budget_and_profit.loc[\n",
    "    movie_budget_and_profit['Profit'] > 0]\n",
    "\n",
    "most_profitable_movies = profitable_movies.sort_values(\n",
    "    by=['profit_inflation_budget'], ascending=False)\n",
    "\n",
    "most_profitable_movies.reset_index(inplace=True)\n",
    "\n",
    "most_profitable_movies.head()"
   ]
  },
  {
   "cell_type": "markdown",
   "metadata": {},
   "source": [
    "#### Data Modeling"
   ]
  },
  {
   "cell_type": "markdown",
   "metadata": {
    "ExecuteTime": {
     "end_time": "2022-01-11T07:08:32.524101Z",
     "start_time": "2022-01-11T07:08:32.521078Z"
    }
   },
   "source": [
    "## Question 1\n",
    "\n",
    "What's the most profitable movies with inflation accounted for in  comparison to production budget?\n",
    "\n",
    "***"
   ]
  },
  {
   "cell_type": "markdown",
   "metadata": {},
   "source": [
    "The \"Budget vs Profit\" scatter plot is displayed to convey the change of profit margin due to inflation thorough time and the impact it has on the profit margin on movies for today. \n",
    "\n",
    "Accounting for inflation in profit margin will provide a more accurate view of how well a movie aged in terms of profitability to scale in the market today. Most movies use less than 100 million dollars to produce there movies and make less than 500 million dollars in profit.\n",
    "\n",
    "While movies that use a budget over 100 million to produce there movies have a higher chance of earning more than 500 million in profit. "
   ]
  },
  {
   "cell_type": "code",
   "execution_count": 81,
   "metadata": {
    "ExecuteTime": {
     "end_time": "2022-01-18T03:19:39.658220Z",
     "start_time": "2022-01-18T03:19:38.895770Z"
    }
   },
   "outputs": [
    {
     "data": {
      "image/png": "[encoded data removed]",
      "text/plain": [
       "<Figure size 864x432 with 1 Axes>"
      ]
     },
     "metadata": {
      "needs_background": "light"
     },
     "output_type": "display_data"
    }
   ],
   "source": [
    "# Modeling data for question 1 The most profitable movies with inflation\n",
    "# accounted for\n",
    "ax1 = sns.lmplot(x='inflation_budget',\n",
    "                 y='profit_inflation_budget',\n",
    "                 data=most_profitable_movies,\n",
    "                 height=6,\n",
    "                 aspect=2)\n",
    "\n",
    "plt.title('Budget Vs Profit')\n",
    "plt.xlabel('Budget with Inflation (Millions of Dollars)', fontsize=12)\n",
    "plt.ticklabel_format(axis='x', style='sci', scilimits=(6, 6))\n",
    "plt.ylabel('Profit with Inflation(Billions of Dollars)', fontsize=12)\n",
    "plt.savefig('./images/BudgetVsProfit', dpi=300, bbox_inches=\"tight\")"
   ]
  },
  {
   "cell_type": "markdown",
   "metadata": {},
   "source": [
    "This bar chart indicates the budget used to make the most profitable movie. By comparing the profit (green) to the budget (black) on the graph down below we can see how drastic the profit margin can be. This will give a gauge on what budget has been used to make a highly profitable movie. "
   ]
  },
  {
   "cell_type": "code",
   "execution_count": 82,
   "metadata": {
    "ExecuteTime": {
     "end_time": "2022-01-18T03:29:27.917265Z",
     "start_time": "2022-01-18T03:29:26.973461Z"
    }
   },
   "outputs": [
    {
     "data": {
      "image/png": "[encoded data removed]",
      "text/plain": [
       "<Figure size 2880x2160 with 1 Axes>"
      ]
     },
     "metadata": {
      "needs_background": "light"
     },
     "output_type": "display_data"
    }
   ],
   "source": [
    "plt.figure(figsize=(40, 30))\n",
    "\n",
    "sns.barplot(x=most_profitable_movies.loc[0:24, 'title'],\n",
    "            y=most_profitable_movies.loc[0:25, 'profit_inflation_budget'],\n",
    "            color='mediumspringgreen',\n",
    "            label='Profit',\n",
    "            ci=None)\n",
    "sns.barplot(x=most_profitable_movies.loc[0:24, 'title'],\n",
    "            y=most_profitable_movies.loc[0:25, 'inflation_budget'],\n",
    "            color='black',\n",
    "            label='Budget',\n",
    "            ci=None)\n",
    "\n",
    "plt.title('Top Most Profitable Movies', fontsize=35)\n",
    "plt.xlabel('Movie', fontsize=29)\n",
    "plt.ylabel('Profit with Inflation(Billions of Dollars)', fontsize=29)\n",
    "plt.xticks(rotation=35, horizontalalignment='right', fontsize=20)\n",
    "plt.legend(fontsize=12)\n",
    "plt.savefig('./images/mostprofitablemovies')"
   ]
  },
  {
   "cell_type": "markdown",
   "metadata": {},
   "source": [
    "Of the ```most_profitable_movies```, there is a median profit margin of 60%. The budget used on these movies had a median of $3.3 million. Avoided using the mean because did not want to be effected by the outliers. \n",
    "***"
   ]
  },
  {
   "cell_type": "code",
   "execution_count": 83,
   "metadata": {
    "ExecuteTime": {
     "end_time": "2022-01-18T03:29:28.019586Z",
     "start_time": "2022-01-18T03:29:27.919570Z"
    }
   },
   "outputs": [
    {
     "data": {
      "text/plain": [
       "count    9.800000e+02\n",
       "mean     5.833848e+07\n",
       "std      6.547194e+07\n",
       "min      5.934508e+04\n",
       "25%      1.333178e+07\n",
       "50%      3.332946e+07\n",
       "75%      7.835958e+07\n",
       "max      4.724294e+08\n",
       "Name: inflation_budget, dtype: float64"
      ]
     },
     "execution_count": 83,
     "metadata": {},
     "output_type": "execute_result"
    }
   ],
   "source": [
    "profitable_movies['inflation_budget'].describe()"
   ]
  },
  {
   "cell_type": "code",
   "execution_count": 84,
   "metadata": {
    "ExecuteTime": {
     "end_time": "2022-01-18T03:29:28.834791Z",
     "start_time": "2022-01-18T03:29:28.822518Z"
    }
   },
   "outputs": [
    {
     "data": {
      "text/plain": [
       "count    980.000000\n",
       "mean       0.627886\n",
       "std        0.233273\n",
       "min        0.000265\n",
       "25%        0.492405\n",
       "50%        0.677003\n",
       "75%        0.805713\n",
       "max        0.997599\n",
       "Name: Profit_Margin, dtype: float64"
      ]
     },
     "execution_count": 84,
     "metadata": {},
     "output_type": "execute_result"
    }
   ],
   "source": [
    "profitable_movies['Profit_Margin'].describe()"
   ]
  },
  {
   "cell_type": "markdown",
   "metadata": {},
   "source": [
    "## Question 2 \n",
    "What studio's produced the most profit? \n",
    "***"
   ]
  },
  {
   "cell_type": "markdown",
   "metadata": {},
   "source": [
    "Finding the most profitable movie studio, through the ```profitable_movies```  of the variables of ```inflation_budget```, ```studio``` and ```profit_inflation_budget```"
   ]
  },
  {
   "cell_type": "code",
   "execution_count": 17,
   "metadata": {
    "ExecuteTime": {
     "end_time": "2022-01-15T00:08:14.640320Z",
     "start_time": "2022-01-15T00:08:14.623731Z"
    }
   },
   "outputs": [
    {
     "data": {
      "text/html": [
       "<div>\n",
       "<style scoped>\n",
       "    .dataframe tbody tr th:only-of-type {\n",
       "        vertical-align: middle;\n",
       "    }\n",
       "\n",
       "    .dataframe tbody tr th {\n",
       "        vertical-align: top;\n",
       "    }\n",
       "\n",
       "    .dataframe thead th {\n",
       "        text-align: right;\n",
       "    }\n",
       "</style>\n",
       "<table border=\"1\" class=\"dataframe\">\n",
       "  <thead>\n",
       "    <tr style=\"text-align: right;\">\n",
       "      <th></th>\n",
       "      <th>title</th>\n",
       "      <th>production_budget</th>\n",
       "      <th>domestic_gross_x</th>\n",
       "      <th>worldwide_gross</th>\n",
       "      <th>studio</th>\n",
       "      <th>domestic_gross_y</th>\n",
       "      <th>foreign_gross</th>\n",
       "      <th>year</th>\n",
       "      <th>Profit</th>\n",
       "      <th>Profit_Margin</th>\n",
       "      <th>inflation_budget</th>\n",
       "      <th>profit_inflation_budget</th>\n",
       "    </tr>\n",
       "  </thead>\n",
       "  <tbody>\n",
       "    <tr>\n",
       "      <th>0</th>\n",
       "      <td>Pirates of the Caribbean: On Stranger Tides</td>\n",
       "      <td>410600000.0</td>\n",
       "      <td>241063875</td>\n",
       "      <td>1.045664e+09</td>\n",
       "      <td>BV</td>\n",
       "      <td>241100000.0</td>\n",
       "      <td>804600000</td>\n",
       "      <td>2011</td>\n",
       "      <td>6.350639e+08</td>\n",
       "      <td>0.607331</td>\n",
       "      <td>4.724294e+08</td>\n",
       "      <td>7.306937e+08</td>\n",
       "    </tr>\n",
       "    <tr>\n",
       "      <th>1</th>\n",
       "      <td>Avengers: Age of Ultron</td>\n",
       "      <td>330600000.0</td>\n",
       "      <td>459005868</td>\n",
       "      <td>1.403014e+09</td>\n",
       "      <td>BV</td>\n",
       "      <td>459000000.0</td>\n",
       "      <td>946400000</td>\n",
       "      <td>2015</td>\n",
       "      <td>1.072414e+09</td>\n",
       "      <td>0.764364</td>\n",
       "      <td>3.609991e+08</td>\n",
       "      <td>1.171024e+09</td>\n",
       "    </tr>\n",
       "    <tr>\n",
       "      <th>2</th>\n",
       "      <td>Avengers: Infinity War</td>\n",
       "      <td>300000000.0</td>\n",
       "      <td>678815482</td>\n",
       "      <td>2.048134e+09</td>\n",
       "      <td>BV</td>\n",
       "      <td>678800000.0</td>\n",
       "      <td>1,369.5</td>\n",
       "      <td>2018</td>\n",
       "      <td>1.748134e+09</td>\n",
       "      <td>0.853525</td>\n",
       "      <td>3.092040e+08</td>\n",
       "      <td>1.801767e+09</td>\n",
       "    </tr>\n",
       "    <tr>\n",
       "      <th>3</th>\n",
       "      <td>Justice League</td>\n",
       "      <td>300000000.0</td>\n",
       "      <td>229024295</td>\n",
       "      <td>6.559452e+08</td>\n",
       "      <td>WB</td>\n",
       "      <td>229000000.0</td>\n",
       "      <td>428900000</td>\n",
       "      <td>2017</td>\n",
       "      <td>3.559452e+08</td>\n",
       "      <td>0.542645</td>\n",
       "      <td>3.167563e+08</td>\n",
       "      <td>3.758263e+08</td>\n",
       "    </tr>\n",
       "    <tr>\n",
       "      <th>4</th>\n",
       "      <td>Spectre</td>\n",
       "      <td>300000000.0</td>\n",
       "      <td>200074175</td>\n",
       "      <td>8.796209e+08</td>\n",
       "      <td>Sony</td>\n",
       "      <td>200100000.0</td>\n",
       "      <td>680600000</td>\n",
       "      <td>2015</td>\n",
       "      <td>5.796209e+08</td>\n",
       "      <td>0.658944</td>\n",
       "      <td>3.275854e+08</td>\n",
       "      <td>6.329178e+08</td>\n",
       "    </tr>\n",
       "  </tbody>\n",
       "</table>\n",
       "</div>"
      ],
      "text/plain": [
       "                                         title  production_budget  \\\n",
       "0  Pirates of the Caribbean: On Stranger Tides        410600000.0   \n",
       "1                      Avengers: Age of Ultron        330600000.0   \n",
       "2                       Avengers: Infinity War        300000000.0   \n",
       "3                               Justice League        300000000.0   \n",
       "4                                      Spectre        300000000.0   \n",
       "\n",
       "  domestic_gross_x  worldwide_gross studio  domestic_gross_y foreign_gross  \\\n",
       "0        241063875     1.045664e+09     BV       241100000.0     804600000   \n",
       "1        459005868     1.403014e+09     BV       459000000.0     946400000   \n",
       "2        678815482     2.048134e+09     BV       678800000.0       1,369.5   \n",
       "3        229024295     6.559452e+08     WB       229000000.0     428900000   \n",
       "4        200074175     8.796209e+08   Sony       200100000.0     680600000   \n",
       "\n",
       "   year        Profit  Profit_Margin  inflation_budget  \\\n",
       "0  2011  6.350639e+08       0.607331      4.724294e+08   \n",
       "1  2015  1.072414e+09       0.764364      3.609991e+08   \n",
       "2  2018  1.748134e+09       0.853525      3.092040e+08   \n",
       "3  2017  3.559452e+08       0.542645      3.167563e+08   \n",
       "4  2015  5.796209e+08       0.658944      3.275854e+08   \n",
       "\n",
       "   profit_inflation_budget  \n",
       "0             7.306937e+08  \n",
       "1             1.171024e+09  \n",
       "2             1.801767e+09  \n",
       "3             3.758263e+08  \n",
       "4             6.329178e+08  "
      ]
     },
     "execution_count": 17,
     "metadata": {},
     "output_type": "execute_result"
    }
   ],
   "source": [
    "profitable_movies.head()"
   ]
  },
  {
   "cell_type": "code",
   "execution_count": 27,
   "metadata": {
    "ExecuteTime": {
     "end_time": "2022-01-15T02:45:21.464962Z",
     "start_time": "2022-01-15T02:45:21.154288Z"
    }
   },
   "outputs": [
    {
     "data": {
      "image/png": "[encoded data removed]",
      "text/plain": [
       "<Figure size 864x720 with 1 Axes>"
      ]
     },
     "metadata": {
      "needs_background": "light"
     },
     "output_type": "display_data"
    }
   ],
   "source": [
    "#Modeling data for question 2, What studios produced the most profit?\n",
    "plt.figure(figsize=(12, 10))\n",
    "\n",
    "ax16 = sns.barplot(y=profitable_movies.loc[0:39, 'profit_inflation_budget'],\n",
    "                   x=profitable_movies.loc[0:40, 'studio'],\n",
    "                   color='salmon',\n",
    "                   label='Profit',\n",
    "                   ci=None)\n",
    "ax16 = sns.barplot(x=most_profitable_movies.loc[0:39, 'studio'],\n",
    "                   y=most_profitable_movies.loc[0:40, 'inflation_budget'],\n",
    "                   color='black',\n",
    "                   label='Budget',\n",
    "                   ci=None)\n",
    "\n",
    "plt.title('Top Most Profitable Studio')\n",
    "plt.xlabel('Studio', fontsize=12)\n",
    "plt.ylabel('Profit with Inflation(Billions of Dollars)', fontsize=12)\n",
    "plt.xticks(rotation=35, horizontalalignment='right', fontsize=12)\n",
    "plt.legend(fontsize=12)\n",
    "plt.savefig('./images/topstudios.png')"
   ]
  },
  {
   "cell_type": "markdown",
   "metadata": {},
   "source": [
    "Warner Brothers New Line Cinema, Disney Buena Vista, and Dreamworks taking the lead as the most profitable movie studio. "
   ]
  },
  {
   "cell_type": "markdown",
   "metadata": {},
   "source": [
    "## Question 3 \n",
    "***\n",
    "What genres on average produce the highest profit?\n",
    "***"
   ]
  },
  {
   "cell_type": "markdown",
   "metadata": {},
   "source": [
    "Finding the genre that on average produce he highest profit, through the ```most_profitable_movies ``` of the variables of ```inflation_budget```, ```title``` and ```profit_inflation_budget```"
   ]
  },
  {
   "cell_type": "code",
   "execution_count": 19,
   "metadata": {
    "ExecuteTime": {
     "end_time": "2022-01-15T00:08:15.529394Z",
     "start_time": "2022-01-15T00:08:15.510126Z"
    }
   },
   "outputs": [
    {
     "data": {
      "text/html": [
       "<div>\n",
       "<style scoped>\n",
       "    .dataframe tbody tr th:only-of-type {\n",
       "        vertical-align: middle;\n",
       "    }\n",
       "\n",
       "    .dataframe tbody tr th {\n",
       "        vertical-align: top;\n",
       "    }\n",
       "\n",
       "    .dataframe thead th {\n",
       "        text-align: right;\n",
       "    }\n",
       "</style>\n",
       "<table border=\"1\" class=\"dataframe\">\n",
       "  <thead>\n",
       "    <tr style=\"text-align: right;\">\n",
       "      <th></th>\n",
       "      <th>index</th>\n",
       "      <th>title</th>\n",
       "      <th>production_budget</th>\n",
       "      <th>domestic_gross_x</th>\n",
       "      <th>worldwide_gross</th>\n",
       "      <th>studio</th>\n",
       "      <th>domestic_gross_y</th>\n",
       "      <th>foreign_gross</th>\n",
       "      <th>year</th>\n",
       "      <th>Profit</th>\n",
       "      <th>Profit_Margin</th>\n",
       "      <th>inflation_budget</th>\n",
       "      <th>profit_inflation_budget</th>\n",
       "    </tr>\n",
       "  </thead>\n",
       "  <tbody>\n",
       "    <tr>\n",
       "      <th>0</th>\n",
       "      <td>2</td>\n",
       "      <td>Avengers: Infinity War</td>\n",
       "      <td>300000000.0</td>\n",
       "      <td>678815482</td>\n",
       "      <td>2.048134e+09</td>\n",
       "      <td>BV</td>\n",
       "      <td>678800000.0</td>\n",
       "      <td>1,369.5</td>\n",
       "      <td>2018</td>\n",
       "      <td>1.748134e+09</td>\n",
       "      <td>0.853525</td>\n",
       "      <td>3.092040e+08</td>\n",
       "      <td>1.801767e+09</td>\n",
       "    </tr>\n",
       "    <tr>\n",
       "      <th>1</th>\n",
       "      <td>21</td>\n",
       "      <td>Jurassic World</td>\n",
       "      <td>215000000.0</td>\n",
       "      <td>652270625</td>\n",
       "      <td>1.648855e+09</td>\n",
       "      <td>Uni.</td>\n",
       "      <td>652300000.0</td>\n",
       "      <td>1,019.4</td>\n",
       "      <td>2015</td>\n",
       "      <td>1.433855e+09</td>\n",
       "      <td>0.869606</td>\n",
       "      <td>2.347695e+08</td>\n",
       "      <td>1.565700e+09</td>\n",
       "    </tr>\n",
       "    <tr>\n",
       "      <th>2</th>\n",
       "      <td>40</td>\n",
       "      <td>Furious 7</td>\n",
       "      <td>190000000.0</td>\n",
       "      <td>353007020</td>\n",
       "      <td>1.518723e+09</td>\n",
       "      <td>Uni.</td>\n",
       "      <td>353000000.0</td>\n",
       "      <td>1,163.0</td>\n",
       "      <td>2015</td>\n",
       "      <td>1.328723e+09</td>\n",
       "      <td>0.874895</td>\n",
       "      <td>2.074707e+08</td>\n",
       "      <td>1.450900e+09</td>\n",
       "    </tr>\n",
       "    <tr>\n",
       "      <th>3</th>\n",
       "      <td>91</td>\n",
       "      <td>Frozen</td>\n",
       "      <td>150000000.0</td>\n",
       "      <td>400738009</td>\n",
       "      <td>1.272470e+09</td>\n",
       "      <td>BV</td>\n",
       "      <td>400700000.0</td>\n",
       "      <td>875700000</td>\n",
       "      <td>2013</td>\n",
       "      <td>1.122470e+09</td>\n",
       "      <td>0.882119</td>\n",
       "      <td>1.666473e+08</td>\n",
       "      <td>1.247044e+09</td>\n",
       "    </tr>\n",
       "    <tr>\n",
       "      <th>4</th>\n",
       "      <td>250</td>\n",
       "      <td>Minions</td>\n",
       "      <td>74000000.0</td>\n",
       "      <td>336045770</td>\n",
       "      <td>1.160336e+09</td>\n",
       "      <td>Uni.</td>\n",
       "      <td>336000000.0</td>\n",
       "      <td>823400000</td>\n",
       "      <td>2015</td>\n",
       "      <td>1.086336e+09</td>\n",
       "      <td>0.936225</td>\n",
       "      <td>8.080439e+07</td>\n",
       "      <td>1.186226e+09</td>\n",
       "    </tr>\n",
       "  </tbody>\n",
       "</table>\n",
       "</div>"
      ],
      "text/plain": [
       "   index                   title  production_budget domestic_gross_x  \\\n",
       "0      2  Avengers: Infinity War        300000000.0        678815482   \n",
       "1     21          Jurassic World        215000000.0        652270625   \n",
       "2     40               Furious 7        190000000.0        353007020   \n",
       "3     91                  Frozen        150000000.0        400738009   \n",
       "4    250                 Minions         74000000.0        336045770   \n",
       "\n",
       "   worldwide_gross studio  domestic_gross_y foreign_gross  year        Profit  \\\n",
       "0     2.048134e+09     BV       678800000.0       1,369.5  2018  1.748134e+09   \n",
       "1     1.648855e+09   Uni.       652300000.0       1,019.4  2015  1.433855e+09   \n",
       "2     1.518723e+09   Uni.       353000000.0       1,163.0  2015  1.328723e+09   \n",
       "3     1.272470e+09     BV       400700000.0     875700000  2013  1.122470e+09   \n",
       "4     1.160336e+09   Uni.       336000000.0     823400000  2015  1.086336e+09   \n",
       "\n",
       "   Profit_Margin  inflation_budget  profit_inflation_budget  \n",
       "0       0.853525      3.092040e+08             1.801767e+09  \n",
       "1       0.869606      2.347695e+08             1.565700e+09  \n",
       "2       0.874895      2.074707e+08             1.450900e+09  \n",
       "3       0.882119      1.666473e+08             1.247044e+09  \n",
       "4       0.936225      8.080439e+07             1.186226e+09  "
      ]
     },
     "execution_count": 19,
     "metadata": {},
     "output_type": "execute_result"
    }
   ],
   "source": [
    "most_profitable_movies.head()"
   ]
  },
  {
   "cell_type": "markdown",
   "metadata": {},
   "source": [
    "Choose to use the ``` imdb_title_basics``` for variables, ```primary_title``` and ```genres```"
   ]
  },
  {
   "cell_type": "code",
   "execution_count": 20,
   "metadata": {
    "ExecuteTime": {
     "end_time": "2022-01-15T00:08:15.541559Z",
     "start_time": "2022-01-15T00:08:15.531215Z"
    }
   },
   "outputs": [
    {
     "data": {
      "text/html": [
       "<div>\n",
       "<style scoped>\n",
       "    .dataframe tbody tr th:only-of-type {\n",
       "        vertical-align: middle;\n",
       "    }\n",
       "\n",
       "    .dataframe tbody tr th {\n",
       "        vertical-align: top;\n",
       "    }\n",
       "\n",
       "    .dataframe thead th {\n",
       "        text-align: right;\n",
       "    }\n",
       "</style>\n",
       "<table border=\"1\" class=\"dataframe\">\n",
       "  <thead>\n",
       "    <tr style=\"text-align: right;\">\n",
       "      <th></th>\n",
       "      <th>tconst</th>\n",
       "      <th>primary_title</th>\n",
       "      <th>original_title</th>\n",
       "      <th>start_year</th>\n",
       "      <th>runtime_minutes</th>\n",
       "      <th>genres</th>\n",
       "    </tr>\n",
       "  </thead>\n",
       "  <tbody>\n",
       "    <tr>\n",
       "      <th>0</th>\n",
       "      <td>tt0063540</td>\n",
       "      <td>Sunghursh</td>\n",
       "      <td>Sunghursh</td>\n",
       "      <td>2013</td>\n",
       "      <td>175.0</td>\n",
       "      <td>Action,Crime,Drama</td>\n",
       "    </tr>\n",
       "    <tr>\n",
       "      <th>1</th>\n",
       "      <td>tt0066787</td>\n",
       "      <td>One Day Before the Rainy Season</td>\n",
       "      <td>Ashad Ka Ek Din</td>\n",
       "      <td>2019</td>\n",
       "      <td>114.0</td>\n",
       "      <td>Biography,Drama</td>\n",
       "    </tr>\n",
       "    <tr>\n",
       "      <th>2</th>\n",
       "      <td>tt0069049</td>\n",
       "      <td>The Other Side of the Wind</td>\n",
       "      <td>The Other Side of the Wind</td>\n",
       "      <td>2018</td>\n",
       "      <td>122.0</td>\n",
       "      <td>Drama</td>\n",
       "    </tr>\n",
       "    <tr>\n",
       "      <th>3</th>\n",
       "      <td>tt0069204</td>\n",
       "      <td>Sabse Bada Sukh</td>\n",
       "      <td>Sabse Bada Sukh</td>\n",
       "      <td>2018</td>\n",
       "      <td>NaN</td>\n",
       "      <td>Comedy,Drama</td>\n",
       "    </tr>\n",
       "    <tr>\n",
       "      <th>4</th>\n",
       "      <td>tt0100275</td>\n",
       "      <td>The Wandering Soap Opera</td>\n",
       "      <td>La Telenovela Errante</td>\n",
       "      <td>2017</td>\n",
       "      <td>80.0</td>\n",
       "      <td>Comedy,Drama,Fantasy</td>\n",
       "    </tr>\n",
       "  </tbody>\n",
       "</table>\n",
       "</div>"
      ],
      "text/plain": [
       "      tconst                    primary_title              original_title  \\\n",
       "0  tt0063540                        Sunghursh                   Sunghursh   \n",
       "1  tt0066787  One Day Before the Rainy Season             Ashad Ka Ek Din   \n",
       "2  tt0069049       The Other Side of the Wind  The Other Side of the Wind   \n",
       "3  tt0069204                  Sabse Bada Sukh             Sabse Bada Sukh   \n",
       "4  tt0100275         The Wandering Soap Opera       La Telenovela Errante   \n",
       "\n",
       "   start_year  runtime_minutes                genres  \n",
       "0        2013            175.0    Action,Crime,Drama  \n",
       "1        2019            114.0       Biography,Drama  \n",
       "2        2018            122.0                 Drama  \n",
       "3        2018              NaN          Comedy,Drama  \n",
       "4        2017             80.0  Comedy,Drama,Fantasy  "
      ]
     },
     "execution_count": 20,
     "metadata": {},
     "output_type": "execute_result"
    }
   ],
   "source": [
    "imdb_title_basics.head()"
   ]
  },
  {
   "cell_type": "markdown",
   "metadata": {},
   "source": [
    "Cleaned data for easy merging of the tables to determine all the genres"
   ]
  },
  {
   "cell_type": "code",
   "execution_count": 21,
   "metadata": {
    "ExecuteTime": {
     "end_time": "2022-01-15T00:08:15.612972Z",
     "start_time": "2022-01-15T00:08:15.544237Z"
    }
   },
   "outputs": [
    {
     "data": {
      "text/html": [
       "<div>\n",
       "<style scoped>\n",
       "    .dataframe tbody tr th:only-of-type {\n",
       "        vertical-align: middle;\n",
       "    }\n",
       "\n",
       "    .dataframe tbody tr th {\n",
       "        vertical-align: top;\n",
       "    }\n",
       "\n",
       "    .dataframe thead th {\n",
       "        text-align: right;\n",
       "    }\n",
       "</style>\n",
       "<table border=\"1\" class=\"dataframe\">\n",
       "  <thead>\n",
       "    <tr style=\"text-align: right;\">\n",
       "      <th></th>\n",
       "      <th>tconst</th>\n",
       "      <th>title</th>\n",
       "      <th>original_title</th>\n",
       "      <th>start_year</th>\n",
       "      <th>runtime_minutes</th>\n",
       "      <th>genres</th>\n",
       "    </tr>\n",
       "  </thead>\n",
       "  <tbody>\n",
       "    <tr>\n",
       "      <th>0</th>\n",
       "      <td>tt0063540</td>\n",
       "      <td>Sunghursh</td>\n",
       "      <td>Sunghursh</td>\n",
       "      <td>2013</td>\n",
       "      <td>175.0</td>\n",
       "      <td>Action,Crime,Drama</td>\n",
       "    </tr>\n",
       "    <tr>\n",
       "      <th>1</th>\n",
       "      <td>tt0066787</td>\n",
       "      <td>One Day Before the Rainy Season</td>\n",
       "      <td>Ashad Ka Ek Din</td>\n",
       "      <td>2019</td>\n",
       "      <td>114.0</td>\n",
       "      <td>Biography,Drama</td>\n",
       "    </tr>\n",
       "    <tr>\n",
       "      <th>2</th>\n",
       "      <td>tt0069049</td>\n",
       "      <td>The Other Side of the Wind</td>\n",
       "      <td>The Other Side of the Wind</td>\n",
       "      <td>2018</td>\n",
       "      <td>122.0</td>\n",
       "      <td>Drama</td>\n",
       "    </tr>\n",
       "    <tr>\n",
       "      <th>4</th>\n",
       "      <td>tt0100275</td>\n",
       "      <td>The Wandering Soap Opera</td>\n",
       "      <td>La Telenovela Errante</td>\n",
       "      <td>2017</td>\n",
       "      <td>80.0</td>\n",
       "      <td>Comedy,Drama,Fantasy</td>\n",
       "    </tr>\n",
       "    <tr>\n",
       "      <th>5</th>\n",
       "      <td>tt0111414</td>\n",
       "      <td>A Thin Life</td>\n",
       "      <td>A Thin Life</td>\n",
       "      <td>2018</td>\n",
       "      <td>75.0</td>\n",
       "      <td>Comedy</td>\n",
       "    </tr>\n",
       "  </tbody>\n",
       "</table>\n",
       "</div>"
      ],
      "text/plain": [
       "      tconst                            title              original_title  \\\n",
       "0  tt0063540                        Sunghursh                   Sunghursh   \n",
       "1  tt0066787  One Day Before the Rainy Season             Ashad Ka Ek Din   \n",
       "2  tt0069049       The Other Side of the Wind  The Other Side of the Wind   \n",
       "4  tt0100275         The Wandering Soap Opera       La Telenovela Errante   \n",
       "5  tt0111414                      A Thin Life                 A Thin Life   \n",
       "\n",
       "   start_year  runtime_minutes                genres  \n",
       "0        2013            175.0    Action,Crime,Drama  \n",
       "1        2019            114.0       Biography,Drama  \n",
       "2        2018            122.0                 Drama  \n",
       "4        2017             80.0  Comedy,Drama,Fantasy  \n",
       "5        2018             75.0                Comedy  "
      ]
     },
     "execution_count": 21,
     "metadata": {},
     "output_type": "execute_result"
    }
   ],
   "source": [
    "# Row above talking about how you cleaned the data\n",
    "genre_by_title = imdb_title_basics.rename(columns={'primary_title': 'title'})\n",
    "genre_by_title = genre_by_title.dropna()\n",
    "\n",
    "genre_by_title.head()\n",
    "#merged dataframes together to get genre"
   ]
  },
  {
   "cell_type": "markdown",
   "metadata": {},
   "source": [
    "Merged the tables ```most_profitable_movies``` and ```genre_by_title``` to have all the ```genres``` and ```title``` together with the ```profit_inflation_budget ```and```inflation_budget``` in the same table."
   ]
  },
  {
   "cell_type": "code",
   "execution_count": 22,
   "metadata": {
    "ExecuteTime": {
     "end_time": "2022-01-15T00:08:15.687216Z",
     "start_time": "2022-01-15T00:08:15.615004Z"
    }
   },
   "outputs": [
    {
     "data": {
      "text/html": [
       "<div>\n",
       "<style scoped>\n",
       "    .dataframe tbody tr th:only-of-type {\n",
       "        vertical-align: middle;\n",
       "    }\n",
       "\n",
       "    .dataframe tbody tr th {\n",
       "        vertical-align: top;\n",
       "    }\n",
       "\n",
       "    .dataframe thead th {\n",
       "        text-align: right;\n",
       "    }\n",
       "</style>\n",
       "<table border=\"1\" class=\"dataframe\">\n",
       "  <thead>\n",
       "    <tr style=\"text-align: right;\">\n",
       "      <th></th>\n",
       "      <th>index</th>\n",
       "      <th>title</th>\n",
       "      <th>production_budget</th>\n",
       "      <th>domestic_gross_x</th>\n",
       "      <th>worldwide_gross</th>\n",
       "      <th>studio</th>\n",
       "      <th>domestic_gross_y</th>\n",
       "      <th>foreign_gross</th>\n",
       "      <th>year</th>\n",
       "      <th>Profit</th>\n",
       "      <th>Profit_Margin</th>\n",
       "      <th>inflation_budget</th>\n",
       "      <th>profit_inflation_budget</th>\n",
       "      <th>tconst</th>\n",
       "      <th>original_title</th>\n",
       "      <th>start_year</th>\n",
       "      <th>runtime_minutes</th>\n",
       "      <th>genres</th>\n",
       "    </tr>\n",
       "  </thead>\n",
       "  <tbody>\n",
       "    <tr>\n",
       "      <th>0</th>\n",
       "      <td>2</td>\n",
       "      <td>Avengers: Infinity War</td>\n",
       "      <td>300000000.0</td>\n",
       "      <td>678815482</td>\n",
       "      <td>2.048134e+09</td>\n",
       "      <td>BV</td>\n",
       "      <td>678800000.0</td>\n",
       "      <td>1,369.5</td>\n",
       "      <td>2018</td>\n",
       "      <td>1.748134e+09</td>\n",
       "      <td>0.853525</td>\n",
       "      <td>3.092040e+08</td>\n",
       "      <td>1.801767e+09</td>\n",
       "      <td>tt4154756</td>\n",
       "      <td>Avengers: Infinity War</td>\n",
       "      <td>2018</td>\n",
       "      <td>149.0</td>\n",
       "      <td>Action,Adventure,Sci-Fi</td>\n",
       "    </tr>\n",
       "    <tr>\n",
       "      <th>1</th>\n",
       "      <td>21</td>\n",
       "      <td>Jurassic World</td>\n",
       "      <td>215000000.0</td>\n",
       "      <td>652270625</td>\n",
       "      <td>1.648855e+09</td>\n",
       "      <td>Uni.</td>\n",
       "      <td>652300000.0</td>\n",
       "      <td>1,019.4</td>\n",
       "      <td>2015</td>\n",
       "      <td>1.433855e+09</td>\n",
       "      <td>0.869606</td>\n",
       "      <td>2.347695e+08</td>\n",
       "      <td>1.565700e+09</td>\n",
       "      <td>tt0369610</td>\n",
       "      <td>Jurassic World</td>\n",
       "      <td>2015</td>\n",
       "      <td>124.0</td>\n",
       "      <td>Action,Adventure,Sci-Fi</td>\n",
       "    </tr>\n",
       "    <tr>\n",
       "      <th>2</th>\n",
       "      <td>40</td>\n",
       "      <td>Furious 7</td>\n",
       "      <td>190000000.0</td>\n",
       "      <td>353007020</td>\n",
       "      <td>1.518723e+09</td>\n",
       "      <td>Uni.</td>\n",
       "      <td>353000000.0</td>\n",
       "      <td>1,163.0</td>\n",
       "      <td>2015</td>\n",
       "      <td>1.328723e+09</td>\n",
       "      <td>0.874895</td>\n",
       "      <td>2.074707e+08</td>\n",
       "      <td>1.450900e+09</td>\n",
       "      <td>tt2820852</td>\n",
       "      <td>Furious Seven</td>\n",
       "      <td>2015</td>\n",
       "      <td>137.0</td>\n",
       "      <td>Action,Crime,Thriller</td>\n",
       "    </tr>\n",
       "    <tr>\n",
       "      <th>3</th>\n",
       "      <td>91</td>\n",
       "      <td>Frozen</td>\n",
       "      <td>150000000.0</td>\n",
       "      <td>400738009</td>\n",
       "      <td>1.272470e+09</td>\n",
       "      <td>BV</td>\n",
       "      <td>400700000.0</td>\n",
       "      <td>875700000</td>\n",
       "      <td>2013</td>\n",
       "      <td>1.122470e+09</td>\n",
       "      <td>0.882119</td>\n",
       "      <td>1.666473e+08</td>\n",
       "      <td>1.247044e+09</td>\n",
       "      <td>tt1323045</td>\n",
       "      <td>Frozen</td>\n",
       "      <td>2010</td>\n",
       "      <td>93.0</td>\n",
       "      <td>Adventure,Drama,Sport</td>\n",
       "    </tr>\n",
       "    <tr>\n",
       "      <th>4</th>\n",
       "      <td>91</td>\n",
       "      <td>Frozen</td>\n",
       "      <td>150000000.0</td>\n",
       "      <td>400738009</td>\n",
       "      <td>1.272470e+09</td>\n",
       "      <td>BV</td>\n",
       "      <td>400700000.0</td>\n",
       "      <td>875700000</td>\n",
       "      <td>2013</td>\n",
       "      <td>1.122470e+09</td>\n",
       "      <td>0.882119</td>\n",
       "      <td>1.666473e+08</td>\n",
       "      <td>1.247044e+09</td>\n",
       "      <td>tt1611845</td>\n",
       "      <td>Wai nei chung ching</td>\n",
       "      <td>2010</td>\n",
       "      <td>92.0</td>\n",
       "      <td>Fantasy,Romance</td>\n",
       "    </tr>\n",
       "  </tbody>\n",
       "</table>\n",
       "</div>"
      ],
      "text/plain": [
       "   index                   title  production_budget domestic_gross_x  \\\n",
       "0      2  Avengers: Infinity War        300000000.0        678815482   \n",
       "1     21          Jurassic World        215000000.0        652270625   \n",
       "2     40               Furious 7        190000000.0        353007020   \n",
       "3     91                  Frozen        150000000.0        400738009   \n",
       "4     91                  Frozen        150000000.0        400738009   \n",
       "\n",
       "   worldwide_gross studio  domestic_gross_y foreign_gross  year        Profit  \\\n",
       "0     2.048134e+09     BV       678800000.0       1,369.5  2018  1.748134e+09   \n",
       "1     1.648855e+09   Uni.       652300000.0       1,019.4  2015  1.433855e+09   \n",
       "2     1.518723e+09   Uni.       353000000.0       1,163.0  2015  1.328723e+09   \n",
       "3     1.272470e+09     BV       400700000.0     875700000  2013  1.122470e+09   \n",
       "4     1.272470e+09     BV       400700000.0     875700000  2013  1.122470e+09   \n",
       "\n",
       "   Profit_Margin  inflation_budget  profit_inflation_budget     tconst  \\\n",
       "0       0.853525      3.092040e+08             1.801767e+09  tt4154756   \n",
       "1       0.869606      2.347695e+08             1.565700e+09  tt0369610   \n",
       "2       0.874895      2.074707e+08             1.450900e+09  tt2820852   \n",
       "3       0.882119      1.666473e+08             1.247044e+09  tt1323045   \n",
       "4       0.882119      1.666473e+08             1.247044e+09  tt1611845   \n",
       "\n",
       "           original_title  start_year  runtime_minutes  \\\n",
       "0  Avengers: Infinity War        2018            149.0   \n",
       "1          Jurassic World        2015            124.0   \n",
       "2           Furious Seven        2015            137.0   \n",
       "3                  Frozen        2010             93.0   \n",
       "4     Wai nei chung ching        2010             92.0   \n",
       "\n",
       "                    genres  \n",
       "0  Action,Adventure,Sci-Fi  \n",
       "1  Action,Adventure,Sci-Fi  \n",
       "2    Action,Crime,Thriller  \n",
       "3    Adventure,Drama,Sport  \n",
       "4          Fantasy,Romance  "
      ]
     },
     "execution_count": 22,
     "metadata": {},
     "output_type": "execute_result"
    }
   ],
   "source": [
    "'''Explaining merging of tables'''\n",
    "genre_with_profit = most_profitable_movies.merge(genre_by_title, on='title')\n",
    "genre_with_profit.head(5)"
   ]
  },
  {
   "cell_type": "markdown",
   "metadata": {
    "ExecuteTime": {
     "end_time": "2022-01-13T23:30:22.209749Z",
     "start_time": "2022-01-13T23:30:22.207895Z"
    }
   },
   "source": [
    "Created the graph of \"Genres Vs Profit with inflation\" to showcase the genres on average  that make the most profit as well as the less amount of profit. Accounting for the margin error on profit inflation on each genre with the whisker tips. "
   ]
  },
  {
   "cell_type": "code",
   "execution_count": 93,
   "metadata": {
    "ExecuteTime": {
     "end_time": "2022-01-18T03:54:38.823368Z",
     "start_time": "2022-01-18T03:54:37.944407Z"
    },
    "scrolled": true
   },
   "outputs": [
    {
     "data": {
      "image/png": "[encoded data removed]",
      "text/plain": [
       "<Figure size 1440x576 with 1 Axes>"
      ]
     },
     "metadata": {
      "needs_background": "light"
     },
     "output_type": "display_data"
    }
   ],
   "source": [
    "# Created dictionary containing gross profit per genre\n",
    "genres_to_profit_list = []\n",
    "for row in genre_with_profit.itertuples():\n",
    "    for genre in row.genres.split(\",\"):\n",
    "        genres_to_profit_list.append([genre, row.profit_inflation_budget])\n",
    "\n",
    "# Building a data frame out of genres_to_profit_dict dictionary\n",
    "df_genres = pd.DataFrame(genres_to_profit_list,\n",
    "                         columns=['Genres', 'Profit_Inflation'])\n",
    "\n",
    "# Dropped \"News\" column due to low data\n",
    "df_genres = df_genres[df_genres['Genres'] != \"News\"]\n",
    "\n",
    "# Calculating sorting order of genres by profit\n",
    "genres_groupby_mean = df_genres.groupby('Genres').mean().sort_values(\n",
    "    'Profit_Inflation', ascending=False)\n",
    "plot_order = genres_groupby_mean.index.values\n",
    "\n",
    "# Plot the graph\n",
    "from numpy import mean\n",
    "\n",
    "plt.figure(figsize=(20, 8))\n",
    "ax = sns.barplot(x='Profit_Inflation',\n",
    "                 y='Genres',\n",
    "                 data=df_genres,\n",
    "                 order=plot_order,\n",
    "                 estimator=mean,\n",
    "                 palette=\"coolwarm\")\n",
    "\n",
    "plt.xlabel(\"Profit with Inflation (Hundreds of Millions)\", size=17)\n",
    "plt.ylabel(\"Genres\", size=15)\n",
    "plt.title(\"Genres Vs Profit with Inflation\", size=20)\n",
    "plt.tight_layout()\n",
    "plt.savefig('./images/Ascending Genres Vs Profit with Inflation.png', dpi=100)"
   ]
  },
  {
   "cell_type": "markdown",
   "metadata": {},
   "source": [
    "## Conculsion\n",
    "\n",
    "After doing the analysis, the three recommendations for the creation of a new movie studio:\n",
    "\n",
    "* **Aim for a movie budget around 300 million to be on average with making a profit margin over 60%.**\n",
    "\n",
    "* **Base best practices for the creation of the studio on the most profitable studios of  Warner Bros New line Cinema, Dreamworks, and Disney Buena Vista.** Especially Fox, they were able to use less than 200 million to produce profit over 800 million. Allowing them to compete with Paramount, Warner Bros and Sony who used almost twice the budget for similar results. \n",
    "\n",
    "* **Animation, Western, and Sci-Fi are the most profitable genres with similar margin of error. Making each of these movie genres the most desirable genres to invest into.** \n",
    "Musicals and Sports have the highest margin of error, which make it a tough movie genre to have a predictable profit range.While drama has the lowest error of margin and average profit with inflation of almost 100 million.Making it a conservative movie genre for a new studio to make.\n"
   ]
  },
  {
   "cell_type": "markdown",
   "metadata": {},
   "source": [
    "## Next Steps \n"
   ]
  },
  {
   "cell_type": "markdown",
   "metadata": {},
   "source": [
    "Attributes to consider for further analysis: \n",
    "\n",
    "* **The most profitable movies are Avengers: Infinity War, Jurassic World and Furious 7**. Considering that all of these movies are part of a  larger movie universe that have been produced over a set amount of time with a dedicated fan base. We can be left to assume that a lot of the profit margin is from an already dedicated fan base. By starting off with a movie that has a universe where we can create a dedicated fan base that spans an entire universe large enough to grow a large diverse character set.\n",
    "\n",
    "* **Based on these studios we will be able to gleam best practices, but we must be aware that studios do have certain talents that are exclusive to them.** These will skew the data for profitable studios, because the movies produced could have only been profitable due to the use of a classic fan favorite actor/actress. This would be a further analysis needed to base the success of a movie due to the main lead. \n",
    "\n",
    "* **Keep in mind the some movies have multiple genres while others only have one so that data will be skewed.** Further study would be needed to discern deeper insights based of movies with only one genre versus movies with several.  \n"
   ]
  }
 ],
 "metadata": {
  "kernelspec": {
   "display_name": "Python 3",
   "language": "python",
   "name": "python3"
  },
  "language_info": {
   "codemirror_mode": {
    "name": "ipython",
    "version": 3
   },
   "file_extension": ".py",
   "mimetype": "text/x-python",
   "name": "python",
   "nbconvert_exporter": "python",
   "pygments_lexer": "ipython3",
   "version": "3.8.5"
  },
  "toc": {
   "base_numbering": 1,
   "nav_menu": {},
   "number_sections": true,
   "sideBar": true,
   "skip_h1_title": false,
   "title_cell": "Table of Contents",
   "title_sidebar": "Contents",
   "toc_cell": false,
   "toc_position": {},
   "toc_section_display": true,
   "toc_window_display": false
  }
 },
 "nbformat": 4,
 "nbformat_minor": 4
}
